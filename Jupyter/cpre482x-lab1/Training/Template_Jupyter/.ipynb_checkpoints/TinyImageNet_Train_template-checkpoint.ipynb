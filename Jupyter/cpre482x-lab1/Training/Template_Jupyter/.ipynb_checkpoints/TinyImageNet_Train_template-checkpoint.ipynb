{
 "cells": [
  {
   "cell_type": "code",
   "execution_count": 19,
   "metadata": {
    "colab": {},
    "colab_type": "code",
    "id": "VWQY7_ZTP5aH"
   },
   "outputs": [],
   "source": [
    "# import the necessary libraries\n",
    "import pathlib\n",
    "import numpy as np\n",
    "import os\n",
    "import time\n",
    "#import tensorflow as tf"
   ]
  },
  {
   "cell_type": "code",
   "execution_count": 20,
   "metadata": {},
   "outputs": [
    {
     "name": "stdout",
     "output_type": "stream",
     "text": [
      "2.4.1\n",
      "Num GPUs Available:  1\n"
     ]
    }
   ],
   "source": [
    "import tensorflow as tf\n",
    "import os\n",
    "print(tf.__version__)\n",
    "os.environ['TF_XLA_FLAGS'] = '--tf_xla_enable_xla_devices'\n",
    "os.environ['TF_CPP_MIN_LOG_LEVEL']='2'\n",
    "os.environ['TF_FORCE_GPU_ALLOW_GROWTH'] = 'true'\n",
    "os.environ['CUDA_VISIBLE_DEVICES'] = '0'\n",
    "print(\"Num GPUs Available: \", len(tf.config.list_physical_devices('GPU')))\n"
   ]
  },
  {
   "cell_type": "code",
   "execution_count": 21,
   "metadata": {},
   "outputs": [],
   "source": [
    "# # Enable or disable GPU\n",
    "# ENABLE_GPU = False\n",
    "# tf.debugging.set_log_device_placement(True)\n",
    "# print(\"TensorFlow version: \", tf.__version__)\n",
    "# devices = tf.config.list_physical_devices(device_type=None)\n",
    "# if not ENABLE_GPU:\n",
    "#     tf.config.set_visible_devices([], 'GPU')\n",
    "# device_name = tf.test.gpu_device_name()\n",
    "# if not device_name:\n",
    "#     print('Running on CPU')\n",
    "# else:\n",
    "#     print('Found GPU at: {}'.format(device_name))"
   ]
  },
  {
   "cell_type": "code",
   "execution_count": 22,
   "metadata": {
    "colab": {},
    "colab_type": "code",
    "id": "vrz63rys1qNr"
   },
   "outputs": [],
   "source": [
    "#define path to the dataset\n",
    "path = pathlib.Path('/local/tiny-imagenet-200')"
   ]
  },
  {
   "cell_type": "code",
   "execution_count": 23,
   "metadata": {
    "colab": {},
    "colab_type": "code",
    "id": "kAw5faJHQT03"
   },
   "outputs": [],
   "source": [
    "# First load wnids\n",
    "with open(os.path.join(path, 'wnids.txt'), 'r') as f:\n",
    "  wnids = [x.strip() for x in f]\n",
    "\n",
    "# Map wnids to integer labels\n",
    "wnid_to_label = {wnid: i for i, wnid in enumerate(wnids)}\n",
    "label_to_wnid = {v: k for k, v in wnid_to_label.items()}\n",
    "\n",
    "\n",
    "# Use words.txt to get names for each class\n",
    "with open(os.path.join(path, 'words.txt'), 'r') as f:\n",
    "  wnid_to_words = dict(line.split('\\t') for line in f)\n",
    "  for wnid, words in wnid_to_words.items():\n",
    "      wnid_to_words[wnid] = [w.strip() for w in words.split(',')]\n",
    "class_names = [wnid_to_words[wnid] for wnid in wnids]\n",
    "\n",
    "\n"
   ]
  },
  {
   "cell_type": "code",
   "execution_count": 24,
   "metadata": {
    "colab": {},
    "colab_type": "code",
    "id": "z_5SvXQF0Tz6"
   },
   "outputs": [],
   "source": [
    "# Function to load training and validation data\n",
    "\n",
    "# Import necessary packages\n",
    "from __future__ import print_function\n",
    "from builtins import range\n",
    "from six.moves import cPickle as pickle\n",
    "import numpy as np\n",
    "import os\n",
    "import platform\n",
    "from tqdm import tqdm\n",
    "import random\n",
    "from imageio import imread\n",
    "from imageio import imsave\n",
    "\n",
    "\n",
    "\n",
    "\n",
    "# Function for loading the tiny imagenet data\n",
    "def load_tiny_imagenet(path, is_training=True, dtype=np.float32, subtract_mean=True, debug=False, debug_nclass=3):\n",
    "    \"\"\"\n",
    "    Load TinyImageNet. Each of TinyImageNet-100-A, TinyImageNet-100-B, and\n",
    "    TinyImageNet-200 have the same directory structure, so this can be used\n",
    "    to load any of them.\n",
    "\n",
    "    Note: The original implementation loaded data as NCHW, I (tyler) changed it to NHWC\n",
    "\n",
    "    Inputs:\n",
    "    - path: String giving path to the directory to load.\n",
    "    - is_training: If True, dont load testing data, if False, dont load training and val data\n",
    "        Note: Must always load training data in order to subtract_mean.\n",
    "    - dtype: numpy datatype used to load the data.\n",
    "    - subtract_mean: Whether to subtract the mean training image.\n",
    "    - debug: Whether or not to load a small number of classes for debugging\n",
    "\n",
    "    Returns: A dictionary with the following entries:\n",
    "    - class_names: A list where class_names[i] is a list of strings giving the\n",
    "      WordNet names for class i in the loaded dataset.\n",
    "    - X_train: (N_tr, 64, 64, 3) array of training images\n",
    "    - y_train: (N_tr,) array of training labels\n",
    "    - X_val: (N_val, 64, 64, 3) array of validation images\n",
    "    - y_val: (N_val,) array of validation labels\n",
    "    - X_test: (N_test, 64, 64, 3) array of testing images.\n",
    "    - y_test: (N_test,) array of test labels; if test labels are not available\n",
    "      (such as in student code) then y_test will be None.\n",
    "    - mean_image: (64, 64, 3) array giving mean training image\n",
    "    - label_to_wnid: dictionary with mapping from integer class label to wnid\n",
    "    \"\"\"\n",
    "    # First load wnids\n",
    "    with open(os.path.join(path, 'wnids.txt'), 'r') as f:\n",
    "        wnids = [x.strip() for x in f]\n",
    "\n",
    "    # Map wnids to integer labels\n",
    "    wnid_to_label = {wnid: i for i, wnid in enumerate(wnids)}\n",
    "    label_to_wnid = {v: k for k, v in wnid_to_label.items()}\n",
    "\n",
    "    # Use words.txt to get names for each class\n",
    "    with open(os.path.join(path, 'words.txt'), 'r') as f:\n",
    "        wnid_to_words = dict(line.split('\\t') for line in f)\n",
    "        for wnid, words in wnid_to_words.items():\n",
    "            wnid_to_words[wnid] = [w.strip() for w in words.split(',')]\n",
    "    class_names = [wnid_to_words[wnid] for wnid in wnids]\n",
    "\n",
    "    if debug:\n",
    "        print('Debug is on! Only loading %d / %d training classes.'\n",
    "                  % (debug_nclass, len(wnids)))\n",
    "\n",
    "    # Next load training data.\n",
    "    X_train, y_train = [], []\n",
    "    train_wnids = wnids[:debug_nclass] if debug else wnids\n",
    "    for i, wnid in tqdm(enumerate(train_wnids), total=len(train_wnids)):\n",
    "        # To figure out the filenames we need to open the boxes file\n",
    "        boxes_file = os.path.join(path, 'train', wnid, '%s_boxes.txt' % wnid)\n",
    "        with open(boxes_file, 'r') as f:\n",
    "            filenames = [x.split('\\t')[0] for x in f]\n",
    "        num_images = len(filenames)\n",
    "\n",
    "        X_train_block = np.zeros((num_images, 64, 64, 3), dtype=dtype)\n",
    "        y_train_block = wnid_to_label[wnid] * \\\n",
    "                        np.ones(num_images, dtype=np.int64)\n",
    "        for j, img_file in enumerate(filenames):\n",
    "            img_file = os.path.join(path, 'train', wnid, 'images', img_file)\n",
    "            img = imread(img_file)\n",
    "            if img.ndim == 2:   ## grayscale file\n",
    "                img.shape = (64, 64, 1)\n",
    "            X_train_block[j] = img\n",
    "        X_train.append(X_train_block)\n",
    "        y_train.append(y_train_block)\n",
    "\n",
    "    # We need to concatenate all training data\n",
    "    X_train = np.concatenate(X_train, axis=0)\n",
    "    y_train = np.concatenate(y_train, axis=0)\n",
    "\n",
    "    # Next load validation data\n",
    "    X_val, y_val = None, None\n",
    "    if is_training:\n",
    "        print('loading validation data')\n",
    "        with open(os.path.join(path, 'val', 'val_annotations.txt'), 'r') as f:\n",
    "            img_files = []\n",
    "            val_wnids = []\n",
    "            for line in f:\n",
    "                img_file, wnid = line.split('\\t')[:2]\n",
    "                img_files.append(img_file)\n",
    "                val_wnids.append(wnid)\n",
    "            num_val = len(img_files)\n",
    "            y_val = np.array([wnid_to_label[wnid] for wnid in val_wnids])\n",
    "            X_val = np.zeros((num_val, 64, 64, 3), dtype=dtype)\n",
    "            for i, img_file in tqdm(enumerate(img_files), total=len(img_files)):\n",
    "                img_file = os.path.join(path, 'val', 'images', img_file)\n",
    "                img = imread(img_file)\n",
    "                if img.ndim == 2:\n",
    "                    img.shape = (64, 64, 1)\n",
    "                X_val[i] = img\n",
    "\n",
    "    mean_image = None\n",
    "    if subtract_mean:\n",
    "        mean_image = X_train.mean(axis=0)\n",
    "        if is_training:\n",
    "            X_train -= mean_image[None]\n",
    "            X_val -= mean_image[None]\n",
    "        else:\n",
    "            X_test -= mean_image[None]\n",
    "\n",
    "    if not is_training:\n",
    "        X_train = None\n",
    "        y_train = None\n",
    "\n",
    "    return {\n",
    "      'class_names': class_names,\n",
    "      'X_train': X_train,\n",
    "      'y_train': y_train,\n",
    "      'X_val': X_val,\n",
    "      'y_val': y_val,\n",
    "      'mean_image': mean_image,\n",
    "      'label_to_wnid': label_to_wnid\n",
    "    }\n"
   ]
  },
  {
   "cell_type": "code",
   "execution_count": 25,
   "metadata": {
    "colab": {
     "base_uri": "https://localhost:8080/",
     "height": 205
    },
    "colab_type": "code",
    "id": "eZJ9EQPH2XF0",
    "outputId": "2459b192-8943-4281-f284-6879d56c15f6"
   },
   "outputs": [
    {
     "name": "stdout",
     "output_type": "stream",
     "text": [
      "Loading Tiny-Imagenet Dataset for training and validation data\n"
     ]
    },
    {
     "name": "stderr",
     "output_type": "stream",
     "text": [
      "100%|█████████████████████████████████████████| 200/200 [00:39<00:00,  5.11it/s]\n"
     ]
    },
    {
     "name": "stdout",
     "output_type": "stream",
     "text": [
      "loading validation data\n"
     ]
    },
    {
     "name": "stderr",
     "output_type": "stream",
     "text": [
      "100%|███████████████████████████████████| 10000/10000 [00:06<00:00, 1586.48it/s]\n"
     ]
    }
   ],
   "source": [
    "print (\"Loading Tiny-Imagenet Dataset for training and validation data\")\n",
    "dataset_train_val = load_tiny_imagenet(path, is_training = True, dtype=np.float32, subtract_mean=False)\n",
    "x_train = dataset_train_val[\"X_train\"] # 100000 images when each is a 64*64*3\n",
    "y_train = dataset_train_val[\"y_train\"] # 100000 elements\n",
    "#slice those suckers down\n",
    "x_train = x_train[1:10000]\n",
    "y_train = y_train[1:10000]\n",
    "x_val = dataset_train_val[\"X_val\"] # 10000 images when each is a 64*64*3\n",
    "y_val = dataset_train_val[\"y_val\"] # 10000 elements\n",
    "\n"
   ]
  },
  {
   "cell_type": "code",
   "execution_count": 26,
   "metadata": {
    "colab": {},
    "colab_type": "code",
    "id": "mKiramsCwe8h"
   },
   "outputs": [],
   "source": [
    "x_train=x_train/255.0\n",
    "x_val=x_val/255.0"
   ]
  },
  {
   "cell_type": "code",
   "execution_count": 27,
   "metadata": {
    "colab": {},
    "colab_type": "code",
    "id": "-D7Vn0oEKbwl"
   },
   "outputs": [],
   "source": [
    "# # one hot encode y data\n",
    "# from tensorflow.keras.utils import to_categorical\n",
    "# num_classes = 200\n",
    "# y_train = to_categorical(y_train, num_classes)\n",
    "# y_val = to_categorical(y_val, num_classes)"
   ]
  },
  {
   "cell_type": "code",
   "execution_count": 28,
   "metadata": {
    "colab": {},
    "colab_type": "code",
    "id": "XBJA8zevI5Yb"
   },
   "outputs": [],
   "source": [
    "# Import required packages for training\n",
    "import datetime\n",
    "import numpy as np\n",
    "import tensorflow as tf\n",
    "import matplotlib.pyplot as plt\n",
    "from tensorflow.keras import Model\n",
    "from tensorflow.keras.models import Sequential\n",
    "from tensorflow.keras.losses import categorical_crossentropy\n",
    "from tensorflow.keras.optimizers import SGD\n",
    "from tensorflow.keras.layers import Dense, Flatten, Conv2D, AveragePooling2D, MaxPooling2D, ZeroPadding2D,Convolution2D, Activation, Dropout \n",
    "from tensorflow.keras import datasets\n",
    "\n",
    "\n",
    "#from __future__ import absolute_import, division, print_function, unicode_literals"
   ]
  },
  {
   "cell_type": "code",
   "execution_count": 29,
   "metadata": {
    "colab": {
     "base_uri": "https://localhost:8080/",
     "height": 571
    },
    "colab_type": "code",
    "id": "iUawHlDUOK97",
    "outputId": "47d1bf1b-e36d-43cc-fadc-9552bb696335"
   },
   "outputs": [],
   "source": [
    "# Basic CNN model\n",
    "model = Sequential()\n",
    "\n",
    "# conv1\n",
    "model.add(Conv2D(32, (5, 5), input_shape= (64, 64, 3),activation='relu'))\n",
    "model.add(Conv2D(32,(5,5),activation='relu'))\n",
    "model.add(MaxPooling2D(pool_size=(2, 2)))\n",
    "model.add(Conv2D(64,(3,3),activation='relu'))\n",
    "model.add(Conv2D(64,(3,3),activation='relu'))\n",
    "model.add(MaxPooling2D(pool_size=(2, 2)))\n",
    "model.add(Conv2D(64,(3,3),activation='relu'))\n",
    "model.add(Conv2D(128,(3,3),activation='relu'))\n",
    "model.add(MaxPooling2D(pool_size=(2, 2)))\n",
    "model.add(Flatten())\n",
    "\n",
    "# fc1\n",
    "model.add(Dense(256,activation='relu'))\n",
    "\n",
    "# fc2\n",
    "model.add(Dense(200,activation='softmax'))\n",
    "\n",
    "# sgd = SGD(lr=0.01, momentum=0.9)\n",
    "#model.compile(loss='categorical_crossentropy' ,optimizer='adam',metrics=['accuracy'])\n",
    "\n",
    "\n",
    "#model.compile(loss='sparse_categorical_crossentropy' ,optimizer='adam',metrics=['accuracy'])\n",
    "\n",
    "\n",
    "\n",
    "model.compile(\n",
    "    optimizer=tf.keras.optimizers.SGD(),  # Optimizer\n",
    "    # Loss function to minimize\n",
    "    loss=tf.keras.losses.SparseCategoricalCrossentropy(),\n",
    "    # List of metrics to monitor\n",
    "    metrics=[tf.keras.metrics.SparseCategoricalAccuracy(),\n",
    "            tf.keras.metrics.SparseTopKCategoricalAccuracy(k=5, name='Top5'),\n",
    "            tf.keras.metrics.SparseTopKCategoricalAccuracy(k=1, name='Top1')],\n",
    ")\n",
    "\n",
    "#model.summary()\n"
   ]
  },
  {
   "cell_type": "code",
   "execution_count": 30,
   "metadata": {
    "colab": {
     "base_uri": "https://localhost:8080/",
     "height": 386
    },
    "colab_type": "code",
    "id": "2qR-UdvFKDI7",
    "outputId": "b2cd11a5-6e41-44be-f540-de742af1fa69"
   },
   "outputs": [
    {
     "name": "stdout",
     "output_type": "stream",
     "text": [
      "Epoch 1/20\n",
      "157/157 [==============================] - 28s 175ms/step - loss: 4.6421 - sparse_categorical_accuracy: 0.0816 - Top5: 0.3362 - Top1: 0.0816 - val_loss: 8.8368 - val_sparse_categorical_accuracy: 0.0052 - val_Top5: 0.0250 - val_Top1: 0.0052\n",
      "Epoch 2/20\n",
      "157/157 [==============================] - 2s 10ms/step - loss: 2.3955 - sparse_categorical_accuracy: 0.1172 - Top5: 0.5330 - Top1: 0.1172 - val_loss: 9.8090 - val_sparse_categorical_accuracy: 0.0050 - val_Top5: 0.0254 - val_Top1: 0.0050\n",
      "Epoch 3/20\n",
      "157/157 [==============================] - 2s 10ms/step - loss: 2.3797 - sparse_categorical_accuracy: 0.1081 - Top5: 0.5160 - Top1: 0.1081 - val_loss: 10.2865 - val_sparse_categorical_accuracy: 0.0051 - val_Top5: 0.0254 - val_Top1: 0.0051\n",
      "Epoch 4/20\n",
      "157/157 [==============================] - 2s 10ms/step - loss: 2.3342 - sparse_categorical_accuracy: 0.1240 - Top5: 0.5395 - Top1: 0.1240 - val_loss: 10.1025 - val_sparse_categorical_accuracy: 0.0050 - val_Top5: 0.0265 - val_Top1: 0.0050\n",
      "Epoch 5/20\n",
      "157/157 [==============================] - 2s 10ms/step - loss: 2.3422 - sparse_categorical_accuracy: 0.1227 - Top5: 0.5380 - Top1: 0.1227 - val_loss: 11.0469 - val_sparse_categorical_accuracy: 0.0051 - val_Top5: 0.0276 - val_Top1: 0.0051\n",
      "Epoch 6/20\n",
      "157/157 [==============================] - 2s 10ms/step - loss: 2.3016 - sparse_categorical_accuracy: 0.1379 - Top5: 0.5670 - Top1: 0.1379 - val_loss: 11.8248 - val_sparse_categorical_accuracy: 0.0053 - val_Top5: 0.0275 - val_Top1: 0.0053\n",
      "Epoch 7/20\n",
      "157/157 [==============================] - 2s 10ms/step - loss: 2.1838 - sparse_categorical_accuracy: 0.1939 - Top5: 0.6482 - Top1: 0.1939 - val_loss: 11.7800 - val_sparse_categorical_accuracy: 0.0064 - val_Top5: 0.0262 - val_Top1: 0.0064\n",
      "Epoch 8/20\n",
      "157/157 [==============================] - 2s 10ms/step - loss: 2.1609 - sparse_categorical_accuracy: 0.2254 - Top5: 0.6763 - Top1: 0.2254 - val_loss: 12.5781 - val_sparse_categorical_accuracy: 0.0113 - val_Top5: 0.0325 - val_Top1: 0.0113\n",
      "Epoch 9/20\n",
      "157/157 [==============================] - 2s 10ms/step - loss: 2.0643 - sparse_categorical_accuracy: 0.2570 - Top5: 0.7173 - Top1: 0.2570 - val_loss: 12.0302 - val_sparse_categorical_accuracy: 0.0133 - val_Top5: 0.0363 - val_Top1: 0.0133\n",
      "Epoch 10/20\n",
      "157/157 [==============================] - 2s 10ms/step - loss: 2.0048 - sparse_categorical_accuracy: 0.2820 - Top5: 0.7493 - Top1: 0.2820 - val_loss: 11.5701 - val_sparse_categorical_accuracy: 0.0078 - val_Top5: 0.0325 - val_Top1: 0.0078\n",
      "Epoch 11/20\n",
      "157/157 [==============================] - 2s 10ms/step - loss: 1.9787 - sparse_categorical_accuracy: 0.2888 - Top5: 0.7590 - Top1: 0.2888 - val_loss: 10.5713 - val_sparse_categorical_accuracy: 0.0147 - val_Top5: 0.0381 - val_Top1: 0.0147\n",
      "Epoch 12/20\n",
      "157/157 [==============================] - 2s 10ms/step - loss: 1.9464 - sparse_categorical_accuracy: 0.3008 - Top5: 0.7852 - Top1: 0.3008 - val_loss: 12.7034 - val_sparse_categorical_accuracy: 0.0133 - val_Top5: 0.0382 - val_Top1: 0.0133\n",
      "Epoch 13/20\n",
      "157/157 [==============================] - 2s 10ms/step - loss: 1.9065 - sparse_categorical_accuracy: 0.3100 - Top5: 0.7911 - Top1: 0.3100 - val_loss: 11.8729 - val_sparse_categorical_accuracy: 0.0126 - val_Top5: 0.0343 - val_Top1: 0.0126\n",
      "Epoch 14/20\n",
      "157/157 [==============================] - 2s 10ms/step - loss: 1.8572 - sparse_categorical_accuracy: 0.3325 - Top5: 0.8015 - Top1: 0.3325 - val_loss: 12.0952 - val_sparse_categorical_accuracy: 0.0089 - val_Top5: 0.0341 - val_Top1: 0.0089\n",
      "Epoch 15/20\n",
      "157/157 [==============================] - 2s 10ms/step - loss: 1.8446 - sparse_categorical_accuracy: 0.3487 - Top5: 0.8192 - Top1: 0.3487 - val_loss: 10.2983 - val_sparse_categorical_accuracy: 0.0131 - val_Top5: 0.0386 - val_Top1: 0.0131\n",
      "Epoch 16/20\n",
      "157/157 [==============================] - 2s 10ms/step - loss: 1.8435 - sparse_categorical_accuracy: 0.3437 - Top5: 0.8147 - Top1: 0.3437 - val_loss: 13.2715 - val_sparse_categorical_accuracy: 0.0143 - val_Top5: 0.0382 - val_Top1: 0.0143\n",
      "Epoch 17/20\n",
      "157/157 [==============================] - 2s 10ms/step - loss: 1.7973 - sparse_categorical_accuracy: 0.3675 - Top5: 0.8368 - Top1: 0.3675 - val_loss: 12.4212 - val_sparse_categorical_accuracy: 0.0154 - val_Top5: 0.0391 - val_Top1: 0.0154\n",
      "Epoch 18/20\n",
      "157/157 [==============================] - 2s 10ms/step - loss: 1.7420 - sparse_categorical_accuracy: 0.3842 - Top5: 0.8456 - Top1: 0.3842 - val_loss: 14.4804 - val_sparse_categorical_accuracy: 0.0108 - val_Top5: 0.0373 - val_Top1: 0.0108\n",
      "Epoch 19/20\n",
      "157/157 [==============================] - 2s 10ms/step - loss: 1.7603 - sparse_categorical_accuracy: 0.3883 - Top5: 0.8511 - Top1: 0.3883 - val_loss: 11.4297 - val_sparse_categorical_accuracy: 0.0170 - val_Top5: 0.0391 - val_Top1: 0.0170\n",
      "Epoch 20/20\n",
      "157/157 [==============================] - 2s 10ms/step - loss: 1.7270 - sparse_categorical_accuracy: 0.3952 - Top5: 0.8480 - Top1: 0.3952 - val_loss: 15.8917 - val_sparse_categorical_accuracy: 0.0077 - val_Top5: 0.0358 - val_Top1: 0.0077\n",
      "Time taken: 57.71s\n"
     ]
    }
   ],
   "source": [
    "# Training on the tiny image dataset\n",
    "# Experiment here with the batch size, number of epochs etc as mentioned in the lab1 doc.\n",
    "# model.fit(x_train,y_train, validation_data=(x_val, y_val),batch_size=256,callbacks=callbacks,\n",
    "#           epochs=100)\n",
    "\n",
    "\n",
    "# model.fit(x_train,y_train, validation_data=(x_val, y_val),batch_size=32,\n",
    "#           epochs=15)\n",
    "\n",
    "#model.fit_generator(x_train,y_train, validation_data=(x_val, y_val),batch_size=32,epochs=10)\n",
    "# from tensorflow.compat.v1 import ConfigProto\n",
    "# from tensorflow.compat.v1 import InteractiveSession\n",
    "# config = ConfigProto()\n",
    "# config.gpu_options.allow_growth = True\n",
    "# session = InteractiveSession(config=config)\n",
    "start_time = time.time()\n",
    "\n",
    "# model.fit(x_train,y_train, validation_split=0.3,batch_size=32,\n",
    "#           epochs=15)\n",
    "history = model.fit(x_train,y_train, validation_data=(x_val, y_val),batch_size=32,\n",
    "          epochs=20)\n",
    "\n",
    "\n",
    "print(\"Time taken: %.2fs\" % (time.time() - start_time))"
   ]
  },
  {
   "cell_type": "code",
   "execution_count": 31,
   "metadata": {
    "colab": {
     "base_uri": "https://localhost:8080/",
     "height": 34
    },
    "colab_type": "code",
    "id": "mhQnvMlaWZ16",
    "outputId": "59b288d6-b1f8-416d-b24d-786af0fab419"
   },
   "outputs": [],
   "source": [
    "# Save the cnn model\n",
    "model.save('CNN_TinyImageNet_trained.h5')"
   ]
  },
  {
   "cell_type": "code",
   "execution_count": 32,
   "metadata": {},
   "outputs": [
    {
     "name": "stdout",
     "output_type": "stream",
     "text": [
      "313/313 [==============================] - 1s 2ms/step - loss: 15.8917 - sparse_categorical_accuracy: 0.0077 - Top5: 0.0358 - Top1: 0.0077\n"
     ]
    },
    {
     "data": {
      "text/plain": [
       "[15.891731262207031,\n",
       " 0.007699999958276749,\n",
       " 0.03579999879002571,\n",
       " 0.007699999958276749]"
      ]
     },
     "execution_count": 32,
     "metadata": {},
     "output_type": "execute_result"
    }
   ],
   "source": [
    "model.evaluate(x=x_val, y=y_val)"
   ]
  },
  {
   "cell_type": "code",
   "execution_count": 33,
   "metadata": {},
   "outputs": [],
   "source": [
    "#### 4-1\n",
    "###Batch 32\n",
    "## Top5: 0.4535\n",
    "## Top1: 0.2237\n",
    "\n",
    "#### 4-3\n",
    "## idk if this is right but for 1/2 dataset\n",
    "## Top5: 0.0250\n",
    "## Top1: 0.0083\n",
    "\n",
    "## Top5: 0.0358\n",
    "## Top1: 0.0077"
   ]
  },
  {
   "cell_type": "code",
   "execution_count": 34,
   "metadata": {},
   "outputs": [
    {
     "data": {
      "image/png": "[encoded data removed]",
      "text/plain": [
       "<Figure size 432x288 with 1 Axes>"
      ]
     },
     "metadata": {
      "needs_background": "light"
     },
     "output_type": "display_data"
    }
   ],
   "source": [
    "#4-2\n",
    "#instead of 3 I just plotted up to 40\n",
    "#a the validation accuracy increased up until a point where it starts to overtrain on the\n",
    "#b Since I was only able to run for 40 epochs since the Jupyter notebooks keep crashing I've spent hours on this already\n",
    "# Top5 0.3596999943256378,\n",
    "# Top1 0.15940000116825104\n",
    "# was the end\n",
    "# somewhere in the middle it peaks around 0.45 for top 5 and 0.224 for top 1\n",
    "#c Like I said in a, the reason the validation accuracy starts going down is you overtrain/overfit for the training dataset so your model\n",
    "# is not generalized enough to work on new inputs (validation data)\n",
    "from matplotlib import pyplot as plt\n",
    "\n",
    "plt.plot(history.history['val_Top1'])\n",
    "plt.plot(history.history['val_Top5'])\n",
    "plt.title('model accuracy')\n",
    "plt.ylabel('accuracy')\n",
    "plt.xlabel('epoch')\n",
    "plt.legend(['Top1', 'Top5'], loc='upper left')\n",
    "plt.show()\n"
   ]
  },
  {
   "cell_type": "code",
   "execution_count": 35,
   "metadata": {
    "colab": {},
    "colab_type": "code",
    "id": "CA7NiZHDJ8WO"
   },
   "outputs": [],
   "source": [
    "# Place the logs in a timestamped subdirectory\n",
    "# This allows to easy select different training runs\n",
    "# In order not to overwrite some data, it is useful to have a name with a timestamp\n",
    "#log_dir=\"C:/Temp/CPRE482X/Lab1/Files/Training/logs/fit/\" + datetime.datetime.now().strftime(\"%Y%m%d-%H%M%S\")\n",
    "# Specify the callback object\n",
    "# tensorboard_callback = tf.keras.callbacks.TensorBoard(log_dir=log_dir, histogram_freq=1)\n",
    "\n",
    "# tf.keras.callback.TensorBoard ensures that logs are created and stored\n",
    "# We need to pass callback object to the fit method\n",
    "# The way to do this is by passing the list of callback objects, which is in our case just one"
   ]
  },
  {
   "cell_type": "code",
   "execution_count": 36,
   "metadata": {
    "colab": {
     "base_uri": "https://localhost:8080/",
     "height": 34
    },
    "colab_type": "code",
    "id": "qfzVH5hSVZbW",
    "outputId": "66d00118-f4c6-4302-b3b8-6920a9aea5a2"
   },
   "outputs": [],
   "source": [
    "# # Using early stopping to monitor validation accuracy\n",
    "# callbacks = [\n",
    "#     tf.keras.callbacks.EarlyStopping(\n",
    "#         # Stop training when `val_loss` is no longer improving\n",
    "#         monitor=\"val_loss\",\n",
    "#         # \"no longer improving\" being defined as \"no better than 1e-2 less\"\n",
    "#         min_delta=1e-2,\n",
    "#         # \"no longer improving\" being further defined as \"for at least 2 epochs\"\n",
    "#         patience=2,\n",
    "#         verbose=1,\n",
    "#     )\n",
    "# #     tf.keras.callbacks.TensorBoard(log_dir=log_dir, histogram_freq=1),\n",
    "    \n",
    "# ]"
   ]
  }
 ],
 "metadata": {
  "accelerator": "GPU",
  "colab": {
   "collapsed_sections": [],
   "machine_shape": "hm",
   "name": "TinyImagenet_Basic_CNN.ipynb",
   "provenance": [],
   "toc_visible": true
  },
  "kernelspec": {
   "display_name": "Python 3 (ipykernel)",
   "language": "python",
   "name": "python3"
  },
  "language_info": {
   "codemirror_mode": {
    "name": "ipython",
    "version": 3
   },
   "file_extension": ".py",
   "mimetype": "text/x-python",
   "name": "python",
   "nbconvert_exporter": "python",
   "pygments_lexer": "ipython3",
   "version": "3.9.6"
  }
 },
 "nbformat": 4,
 "nbformat_minor": 1
}
