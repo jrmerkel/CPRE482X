{
 "cells": [
  {
   "cell_type": "code",
   "execution_count": 1,
   "metadata": {},
   "outputs": [],
   "source": [
    "# This file provide template to download and work with the TinyImageNet dataset"
   ]
  },
  {
   "cell_type": "code",
   "execution_count": 2,
   "metadata": {},
   "outputs": [
    {
     "name": "stderr",
     "output_type": "stream",
     "text": [
      "2021-09-06 15:22:27.119334: I tensorflow/stream_executor/platform/default/dso_loader.cc:49] Successfully opened dynamic library libcudart.so.10.1\n"
     ]
    }
   ],
   "source": [
    "# Please make sure GPU is disabled for this inference part of the lab\n",
    "# Disable GPU and enable xla flags\n",
    "import os\n",
    "os.environ[\"CUDA_VISIBLE_DEVICES\"] = \"-1\"\n",
    "os.environ['TF_XLA_FLAGS'] = '--tf_xla_enable_xla_devices'\n",
    "import pathlib\n",
    "import numpy as np\n",
    "import tensorflow as tf\n",
    "import os\n",
    "import datetime\n",
    "import numpy as np\n",
    "import tensorflow as tf\n",
    "import matplotlib.pyplot as plt\n",
    "from tensorflow.keras import Model"
   ]
  },
  {
   "cell_type": "code",
   "execution_count": 3,
   "metadata": {},
   "outputs": [],
   "source": [
    "# Make sure that unzipped tiny-imagenet-200 folder is placed in the current directory\n",
    "#define path to the dataset\n",
    "path = pathlib.Path('/local/tiny-imagenet-200')"
   ]
  },
  {
   "cell_type": "code",
   "execution_count": 4,
   "metadata": {},
   "outputs": [],
   "source": [
    "# Map the wnids to integer labels to words\n",
    "with open(os.path.join(path, 'wnids.txt'), 'r') as f:\n",
    "  wnids = [x.strip() for x in f]\n",
    "\n",
    "\n",
    "# Map wnids to integer labels\n",
    "wnid_to_label = {wnid: i for i, wnid in enumerate(wnids)}\n",
    "label_to_wnid = {v: k for k, v in wnid_to_label.items()}\n",
    "\n",
    "# Use words.txt to get names for each class\n",
    "with open(os.path.join(path, 'words.txt'), 'r') as f:\n",
    "  wnid_to_words = dict(line.split('\\t') for line in f)\n",
    "  for wnid, words in wnid_to_words.items():\n",
    "      wnid_to_words[wnid] = [w.strip() for w in words.split(',')]\n",
    "class_names = [wnid_to_words[wnid] for wnid in wnids]"
   ]
  },
  {
   "cell_type": "code",
   "execution_count": 5,
   "metadata": {},
   "outputs": [],
   "source": [
    "# Import necessary packages\n",
    "from __future__ import print_function\n",
    "from builtins import range\n",
    "from six.moves import cPickle as pickle\n",
    "import numpy as np\n",
    "import os\n",
    "import platform\n",
    "from tqdm import tqdm\n",
    "import random\n",
    "from imageio import imread\n",
    "from imageio import imsave\n",
    "\n",
    "\n",
    "# Function for loading the tiny imagenet data\n",
    "def load_tiny_imagenet(path, is_training=True, dtype=np.float32, subtract_mean=True, debug=False, debug_nclass=3):\n",
    "    \"\"\"\n",
    "    Load TinyImageNet. Each of TinyImageNet-100-A, TinyImageNet-100-B, and\n",
    "    TinyImageNet-200 have the same directory structure, so this can be used\n",
    "    to load any of them.\n",
    "\n",
    "    Note: The original implementation loaded data as NCHW, I (tyler) changed it to NHWC\n",
    "\n",
    "    Inputs:\n",
    "    - path: String giving path to the directory to load.\n",
    "    - is_training: If True, dont load testing data, if False, dont load training and val data\n",
    "        Note: Must always load training data in order to subtract_mean.\n",
    "    - dtype: numpy datatype used to load the data.\n",
    "    - subtract_mean: Whether to subtract the mean training image.\n",
    "    - debug: Whether or not to load a small number of classes for debugging\n",
    "\n",
    "    Returns: A dictionary with the following entries:\n",
    "    - class_names: A list where class_names[i] is a list of strings giving the\n",
    "      WordNet names for class i in the loaded dataset.\n",
    "    - X_train: (N_tr, 64, 64, 3) array of training images\n",
    "    - y_train: (N_tr,) array of training labels\n",
    "    - X_val: (N_val, 64, 64, 3) array of validation images\n",
    "    - y_val: (N_val,) array of validation labels\n",
    "    - X_test: (N_test, 64, 64, 3) array of testing images.\n",
    "    - y_test: (N_test,) array of test labels; if test labels are not available\n",
    "      (such as in student code) then y_test will be None.\n",
    "    - mean_image: (64, 64, 3) array giving mean training image\n",
    "    - label_to_wnid: dictionary with mapping from integer class label to wnid\n",
    "    \"\"\"\n",
    "    # First load wnids\n",
    "    with open(os.path.join(path, 'wnids.txt'), 'r') as f:\n",
    "        wnids = [x.strip() for x in f]\n",
    "\n",
    "    # Map wnids to integer labels\n",
    "    wnid_to_label = {wnid: i for i, wnid in enumerate(wnids)}\n",
    "    label_to_wnid = {v: k for k, v in wnid_to_label.items()}\n",
    "\n",
    "    # Use words.txt to get names for each class\n",
    "    with open(os.path.join(path, 'words.txt'), 'r') as f:\n",
    "        wnid_to_words = dict(line.split('\\t') for line in f)\n",
    "        for wnid, words in wnid_to_words.items():\n",
    "            wnid_to_words[wnid] = [w.strip() for w in words.split(',')]\n",
    "    class_names = [wnid_to_words[wnid] for wnid in wnids]\n",
    "\n",
    "    if debug:\n",
    "        print('Debug is on! Only loading %d / %d training classes.'\n",
    "                  % (debug_nclass, len(wnids)))\n",
    "\n",
    "    # Next load training data.\n",
    "    X_train, y_train = [], []\n",
    "    train_wnids = wnids[:debug_nclass] if debug else wnids\n",
    "    for i, wnid in tqdm(enumerate(train_wnids), total=len(train_wnids)):\n",
    "        # To figure out the filenames we need to open the boxes file\n",
    "        boxes_file = os.path.join(path, 'train', wnid, '%s_boxes.txt' % wnid)\n",
    "        with open(boxes_file, 'r') as f:\n",
    "            filenames = [x.split('\\t')[0] for x in f]\n",
    "        num_images = len(filenames)\n",
    "\n",
    "        X_train_block = np.zeros((num_images, 64, 64, 3), dtype=dtype)\n",
    "        y_train_block = wnid_to_label[wnid] * \\\n",
    "                        np.ones(num_images, dtype=np.int64)\n",
    "        for j, img_file in enumerate(filenames):\n",
    "            img_file = os.path.join(path, 'train', wnid, 'images', img_file)\n",
    "            img = imread(img_file)\n",
    "            if img.ndim == 2:   ## grayscale file\n",
    "                img.shape = (64, 64, 1)\n",
    "            X_train_block[j] = img\n",
    "        X_train.append(X_train_block)\n",
    "        y_train.append(y_train_block)\n",
    "\n",
    "    # We need to concatenate all training data\n",
    "    X_train = np.concatenate(X_train, axis=0)\n",
    "    y_train = np.concatenate(y_train, axis=0)\n",
    "\n",
    "    # Next load validation data\n",
    "    X_val, y_val = None, None\n",
    "    if is_training:\n",
    "        print('loading validation data')\n",
    "        with open(os.path.join(path, 'val', 'val_annotations.txt'), 'r') as f:\n",
    "            img_files = []\n",
    "            val_wnids = []\n",
    "            for line in f:\n",
    "                img_file, wnid = line.split('\\t')[:2]\n",
    "                img_files.append(img_file)\n",
    "                val_wnids.append(wnid)\n",
    "            num_val = len(img_files)\n",
    "            y_val = np.array([wnid_to_label[wnid] for wnid in val_wnids])\n",
    "            X_val = np.zeros((num_val, 64, 64, 3), dtype=dtype)\n",
    "            for i, img_file in tqdm(enumerate(img_files), total=len(img_files)):\n",
    "                img_file = os.path.join(path, 'val', 'images', img_file)\n",
    "                img = imread(img_file)\n",
    "                if img.ndim == 2:\n",
    "                    img.shape = (64, 64, 1)\n",
    "                X_val[i] = img\n",
    "\n",
    "    mean_image = None\n",
    "    if subtract_mean:\n",
    "        mean_image = X_train.mean(axis=0)\n",
    "        if is_training:\n",
    "            X_train -= mean_image[None]\n",
    "            X_val -= mean_image[None]\n",
    "        else:\n",
    "            X_test -= mean_image[None]\n",
    "\n",
    "    if not is_training:\n",
    "        X_train = None\n",
    "        y_train = None\n",
    "\n",
    "    return {\n",
    "      'class_names': class_names,\n",
    "      'X_train': X_train,\n",
    "      'y_train': y_train,\n",
    "      'X_val': X_val,\n",
    "      'y_val': y_val,\n",
    "      'mean_image': mean_image,\n",
    "      'label_to_wnid': label_to_wnid\n",
    "    }\n"
   ]
  },
  {
   "cell_type": "code",
   "execution_count": 6,
   "metadata": {},
   "outputs": [
    {
     "name": "stdout",
     "output_type": "stream",
     "text": [
      "Loading Tiny-Imagenet Dataset for training and validation data\n"
     ]
    },
    {
     "name": "stderr",
     "output_type": "stream",
     "text": [
      "100%|█████████████████████████████████████████| 200/200 [01:04<00:00,  3.12it/s]\n"
     ]
    },
    {
     "name": "stdout",
     "output_type": "stream",
     "text": [
      "loading validation data\n"
     ]
    },
    {
     "name": "stderr",
     "output_type": "stream",
     "text": [
      "100%|███████████████████████████████████| 10000/10000 [00:06<00:00, 1608.85it/s]\n"
     ]
    }
   ],
   "source": [
    "print (\"Loading Tiny-Imagenet Dataset for training and validation data\")\n",
    "dataset_train_val = load_tiny_imagenet(path, is_training = True, dtype=np.float32, subtract_mean=False)\n",
    "x_val = dataset_train_val[\"X_val\"] # 10000 images when each is a 64*64*3\n",
    "y_val = dataset_train_val[\"y_val\"] # 10000 elements"
   ]
  },
  {
   "cell_type": "code",
   "execution_count": 7,
   "metadata": {},
   "outputs": [],
   "source": [
    "# Normalize all the float data between 0 and 1\n",
    "x_val = x_val/255.0"
   ]
  },
  {
   "cell_type": "code",
   "execution_count": 8,
   "metadata": {},
   "outputs": [],
   "source": [
    "# one hot encode y data\n",
    "from tensorflow.keras.utils import to_categorical\n",
    "num_classes = 200\n",
    "y_val = to_categorical(y_val, num_classes)"
   ]
  },
  {
   "cell_type": "code",
   "execution_count": 9,
   "metadata": {},
   "outputs": [
    {
     "data": {
      "image/png": "[encoded data removed]",
      "text/plain": [
       "<Figure size 432x288 with 1 Axes>"
      ]
     },
     "metadata": {
      "needs_background": "light"
     },
     "output_type": "display_data"
    }
   ],
   "source": [
    "# E.g. visualization of one of the validation set image\n",
    "import matplotlib.pyplot as plt\n",
    "arr_ = np.squeeze(x_val[12]) # you can give axis attribute if you wanna squeeze in specific dimension\n",
    "plt.imshow(arr_)\n",
    "plt.show()"
   ]
  },
  {
   "cell_type": "code",
   "execution_count": 10,
   "metadata": {},
   "outputs": [
    {
     "name": "stdout",
     "output_type": "stream",
     "text": [
      "The new image class is reel\n"
     ]
    },
    {
     "data": {
      "image/png": "[encoded data removed]",
      "text/plain": [
       "<Figure size 432x288 with 1 Axes>"
      ]
     },
     "metadata": {
      "needs_background": "light"
     },
     "output_type": "display_data"
    }
   ],
   "source": [
    "# 3.1\n",
    "new_class_image = np.squeeze(x_val[1])\n",
    "print(\"The new image class is \" + class_names[1][0])\n",
    "plt.imshow(new_class_image)\n",
    "plt.show()"
   ]
  },
  {
   "cell_type": "code",
   "execution_count": 11,
   "metadata": {},
   "outputs": [
    {
     "name": "stderr",
     "output_type": "stream",
     "text": [
      "2021-09-06 15:23:44.400288: I tensorflow/stream_executor/platform/default/dso_loader.cc:49] Successfully opened dynamic library libcuda.so.1\n",
      "2021-09-06 15:23:44.423079: E tensorflow/stream_executor/cuda/cuda_driver.cc:328] failed call to cuInit: CUDA_ERROR_NO_DEVICE: no CUDA-capable device is detected\n",
      "2021-09-06 15:23:44.423135: I tensorflow/stream_executor/cuda/cuda_diagnostics.cc:169] retrieving CUDA diagnostic information for host: cpre482-13.ece.iastate.edu\n",
      "2021-09-06 15:23:44.423146: I tensorflow/stream_executor/cuda/cuda_diagnostics.cc:176] hostname: cpre482-13.ece.iastate.edu\n",
      "2021-09-06 15:23:44.423257: I tensorflow/stream_executor/cuda/cuda_diagnostics.cc:200] libcuda reported version is: 470.63.1\n",
      "2021-09-06 15:23:44.423308: I tensorflow/stream_executor/cuda/cuda_diagnostics.cc:204] kernel reported version is: 470.63.1\n",
      "2021-09-06 15:23:44.423316: I tensorflow/stream_executor/cuda/cuda_diagnostics.cc:310] kernel version seems to match DSO: 470.63.1\n",
      "2021-09-06 15:23:44.423785: I tensorflow/core/platform/cpu_feature_guard.cc:142] This TensorFlow binary is optimized with oneAPI Deep Neural Network Library (oneDNN) to use the following CPU instructions in performance-critical operations:  SSE4.1 SSE4.2 AVX AVX2 AVX512F FMA\n",
      "To enable them in other operations, rebuild TensorFlow with the appropriate compiler flags.\n",
      "2021-09-06 15:23:44.430533: I tensorflow/core/platform/profile_utils/cpu_utils.cc:112] CPU Frequency: 2294605000 Hz\n",
      "2021-09-06 15:23:44.431038: I tensorflow/compiler/xla/service/service.cc:168] XLA service 0x55f25e836a40 initialized for platform Host (this does not guarantee that XLA will be used). Devices:\n",
      "2021-09-06 15:23:44.431061: I tensorflow/compiler/xla/service/service.cc:176]   StreamExecutor device (0): Host, Default Version\n"
     ]
    }
   ],
   "source": [
    "# To do:  Load the H5 model and print summary. Please make sure the h5 model file is present in the current directory.\n",
    "# Sample code to load the model\n",
    "### 3.2\n",
    "model = tf.keras.models.load_model('/local/Jupyter/cpre482x-lab1/Inference/Template_Jupyter/CNN_tinyimagenet.h5', compile=False)"
   ]
  },
  {
   "cell_type": "code",
   "execution_count": 12,
   "metadata": {},
   "outputs": [
    {
     "name": "stdout",
     "output_type": "stream",
     "text": [
      "Model: \"sequential\"\n",
      "_________________________________________________________________\n",
      "Layer (type)                 Output Shape              Param #   \n",
      "=================================================================\n",
      "conv2d (Conv2D)              (None, 60, 60, 32)        2432      \n",
      "_________________________________________________________________\n",
      "conv2d_1 (Conv2D)            (None, 56, 56, 32)        25632     \n",
      "_________________________________________________________________\n",
      "max_pooling2d (MaxPooling2D) (None, 28, 28, 32)        0         \n",
      "_________________________________________________________________\n",
      "conv2d_2 (Conv2D)            (None, 26, 26, 64)        18496     \n",
      "_________________________________________________________________\n",
      "conv2d_3 (Conv2D)            (None, 24, 24, 64)        36928     \n",
      "_________________________________________________________________\n",
      "max_pooling2d_1 (MaxPooling2 (None, 12, 12, 64)        0         \n",
      "_________________________________________________________________\n",
      "conv2d_4 (Conv2D)            (None, 10, 10, 64)        36928     \n",
      "_________________________________________________________________\n",
      "conv2d_5 (Conv2D)            (None, 8, 8, 128)         73856     \n",
      "_________________________________________________________________\n",
      "max_pooling2d_2 (MaxPooling2 (None, 4, 4, 128)         0         \n",
      "_________________________________________________________________\n",
      "flatten (Flatten)            (None, 2048)              0         \n",
      "_________________________________________________________________\n",
      "dense (Dense)                (None, 256)               524544    \n",
      "_________________________________________________________________\n",
      "dense_1 (Dense)              (None, 200)               51400     \n",
      "=================================================================\n",
      "Total params: 770,216\n",
      "Trainable params: 770,216\n",
      "Non-trainable params: 0\n",
      "_________________________________________________________________\n"
     ]
    }
   ],
   "source": [
    "model.summary()"
   ]
  },
  {
   "cell_type": "markdown",
   "metadata": {},
   "source": [
    "![title](../../ComputationalGraph.png)"
   ]
  },
  {
   "cell_type": "code",
   "execution_count": 13,
   "metadata": {},
   "outputs": [
    {
     "name": "stderr",
     "output_type": "stream",
     "text": [
      "2021-09-06 15:23:44.606224: I tensorflow/compiler/mlir/mlir_graph_optimization_pass.cc:116] None of the MLIR optimization passes are enabled (registered 2)\n"
     ]
    },
    {
     "name": "stdout",
     "output_type": "stream",
     "text": [
      "Top ten Accuracy0.6195\n",
      "Top five Accuracy0.4965\n",
      "Top one Accuracy0.242\n"
     ]
    }
   ],
   "source": [
    "# To do: Calculate Top-1, Top-5 accuracy on the validation set\n",
    "# E.g. to calculate Top-10 accuracy\n",
    "# Top-10 acc\n",
    "\n",
    "#3.3\n",
    "acc_top10=0\n",
    "for i in range(10000):\n",
    "    t=x_val[i].reshape(1,64,64,3)\n",
    "    y_pred= model.predict(t)\n",
    "    y_true= np.argmax(y_val[i])\n",
    "    S=tf.math.top_k(\n",
    "    y_pred, k=10, sorted=True, name=None)\n",
    "    z=(S.indices.numpy())\n",
    "    if(y_true in z):\n",
    "        acc_top10=acc_top10+1\n",
    "        \n",
    "print(\"Top ten Accuracy \" + str(acc_top10/10000))\n",
    "\n",
    "acc_top5=0\n",
    "for i in range(10000):\n",
    "    t=x_val[i].reshape(1,64,64,3)\n",
    "    y_pred= model.predict(t)\n",
    "    y_true= np.argmax(y_val[i])\n",
    "    S=tf.math.top_k(\n",
    "    y_pred, k=5, sorted=True, name=None)\n",
    "    z=(S.indices.numpy())\n",
    "    if(y_true in z):\n",
    "        acc_top5=acc_top5+1\n",
    "\n",
    "print(\"Top five Accuracy \" + str(acc_top5/10000))        \n",
    "\n",
    "acc_top1=0\n",
    "for i in range(10000):\n",
    "    t=x_val[i].reshape(1,64,64,3)\n",
    "    y_pred= model.predict(t)\n",
    "    y_true= np.argmax(y_val[i])\n",
    "    S=tf.math.top_k(\n",
    "    y_pred, k=1, sorted=True, name=None)\n",
    "    z=(S.indices.numpy())\n",
    "    if(y_true in z):\n",
    "        acc_top1=acc_top1+1\n",
    "\n",
    "print(\"Top one Accuracy \" + str(acc_top1/10000))"
   ]
  },
  {
   "cell_type": "code",
   "execution_count": null,
   "metadata": {},
   "outputs": [],
   "source": [
    "\n",
    "\n"
   ]
  },
  {
   "cell_type": "code",
   "execution_count": 14,
   "metadata": {},
   "outputs": [
    {
     "name": "stdout",
     "output_type": "stream",
     "text": [
      "Egyptian cat\n",
      "reel\n",
      "volleyball\n",
      "rocking chair\n",
      "lemon\n",
      "bullfrog\n",
      "basketball\n",
      "cliff\n",
      "espresso\n",
      "plunger\n",
      "parking meter\n",
      "German shepherd\n",
      "dining table\n",
      "monarch\n",
      "brown bear\n",
      "school bus\n",
      "pizza\n",
      "guinea pig\n",
      "umbrella\n",
      "organ\n",
      "oboe\n",
      "maypole\n",
      "goldfish\n",
      "potpie\n",
      "hourglass\n",
      "seashore\n",
      "computer keyboard\n",
      "Arabian camel\n",
      "ice cream\n",
      "nail\n",
      "space heater\n",
      "cardigan\n",
      "baboon\n",
      "snail\n",
      "coral reef\n",
      "albatross\n",
      "spider web\n",
      "sea cucumber\n",
      "backpack\n",
      "Labrador retriever\n",
      "pretzel\n",
      "king penguin\n",
      "sulphur butterfly\n",
      "tarantula\n",
      "lesser panda\n",
      "pop bottle\n",
      "banana\n",
      "sock\n",
      "cockroach\n",
      "projectile\n",
      "beer bottle\n",
      "mantis\n",
      "freight car\n",
      "guacamole\n",
      "remote control\n",
      "European fire salamander\n",
      "lakeside\n",
      "chimpanzee\n",
      "pay-phone\n",
      "fur coat\n",
      "alp\n",
      "lampshade\n",
      "torch\n",
      "abacus\n",
      "moving van\n",
      "barrel\n",
      "tabby\n",
      "goose\n",
      "koala\n",
      "bullet train\n",
      "CD player\n",
      "teapot\n",
      "birdhouse\n",
      "gazelle\n",
      "academic gown\n",
      "tractor\n",
      "ladybug\n",
      "miniskirt\n",
      "golden retriever\n",
      "triumphal arch\n",
      "cannon\n",
      "neck brace\n",
      "sombrero\n",
      "gasmask\n",
      "candle\n",
      "desk\n",
      "frying pan\n",
      "bee\n",
      "dam\n",
      "spiny lobster\n",
      "police van\n",
      "iPod\n",
      "punching bag\n",
      "beacon\n",
      "jellyfish\n",
      "wok\n",
      "potter's wheel\n",
      "sandal\n",
      "pill bottle\n",
      "butcher shop\n",
      "slug\n",
      "hog\n",
      "cougar\n",
      "crane\n",
      "vestment\n",
      "dragonfly\n",
      "cash machine\n",
      "mushroom\n",
      "jinrikisha\n",
      "water tower\n",
      "chest\n",
      "snorkel\n",
      "sunglasses\n",
      "fly\n",
      "limousine\n",
      "black stork\n",
      "dugong\n",
      "sports car\n",
      "water jug\n",
      "suspension bridge\n",
      "ox\n",
      "ice lolly\n",
      "turnstile\n",
      "Christmas stocking\n",
      "broom\n",
      "scorpion\n",
      "wooden spoon\n",
      "picket fence\n",
      "rugby ball\n",
      "sewing machine\n",
      "steel arch bridge\n",
      "Persian cat\n",
      "refrigerator\n",
      "barn\n",
      "apron\n",
      "Yorkshire terrier\n",
      "swimming trunks\n",
      "stopwatch\n",
      "lawn mower\n",
      "thatch\n",
      "fountain\n",
      "black widow\n",
      "bikini\n",
      "plate\n",
      "teddy\n",
      "barbershop\n",
      "confectionery\n",
      "beach wagon\n",
      "scoreboard\n",
      "orange\n",
      "flagpole\n",
      "American lobster\n",
      "trolleybus\n",
      "drumstick\n",
      "dumbbell\n",
      "brass\n",
      "bow tie\n",
      "convertible\n",
      "bighorn\n",
      "orangutan\n",
      "American alligator\n",
      "centipede\n",
      "syringe\n",
      "go-kart\n",
      "brain coral\n",
      "sea slug\n",
      "cliff dwelling\n",
      "mashed potato\n",
      "viaduct\n",
      "military uniform\n",
      "pomegranate\n",
      "chain\n",
      "kimono\n",
      "comic book\n",
      "trilobite\n",
      "bison\n",
      "pole\n",
      "boa constrictor\n",
      "poncho\n",
      "bathtub\n",
      "grasshopper\n",
      "walking stick\n",
      "Chihuahua\n",
      "tailed frog\n",
      "lion\n",
      "altar\n",
      "obelisk\n",
      "beaker\n",
      "bell pepper\n",
      "bannister\n",
      "bucket\n",
      "magnetic compass\n",
      "meat loaf\n",
      "gondola\n",
      "standard poodle\n",
      "acorn\n",
      "lifeboat\n",
      "binoculars\n",
      "cauliflower\n",
      "African elephant\n"
     ]
    }
   ],
   "source": [
    "#Print all the 200 classes present and create three test images each of size 64*64*3 and\n",
    "#mark the y- value with expected label.\n",
    "or i in class_names:\n",
    "    print(i[0])"
   ]
  },
  {
   "cell_type": "code",
   "execution_count": 31,
   "metadata": {},
   "outputs": [
    {
     "data": {
      "image/png": "[encoded data removed]",
      "text/plain": [
       "<Figure size 432x288 with 1 Axes>"
      ]
     },
     "metadata": {
      "needs_background": "light"
     },
     "output_type": "display_data"
    },
    {
     "name": "stdout",
     "output_type": "stream",
     "text": [
      "Datatype of the image is: <class 'numpy.ndarray'>\n",
      "Dimensions of the image is : (64, 64, 3)\n",
      "Memory usage of the image is 49152\n",
      "The actual class is ['bathtub', 'bathing tub', 'bath', 'tub']\n",
      "The predicted class is ['dining table', 'board']\n"
     ]
    },
    {
     "data": {
      "image/png": "[encoded data removed]",
      "text/plain": [
       "<Figure size 432x288 with 1 Axes>"
      ]
     },
     "metadata": {
      "needs_background": "light"
     },
     "output_type": "display_data"
    },
    {
     "name": "stdout",
     "output_type": "stream",
     "text": [
      "Datatype of the image is: <class 'numpy.ndarray'>\n",
      "Dimensions of the image is : (64, 64, 3)\n",
      "Memory usage of the image is 49152\n",
      "The actual class is ['teddy', 'teddy bear']\n",
      "The predicted class is ['poncho']\n"
     ]
    },
    {
     "data": {
      "image/png": "[encoded data removed]",
      "text/plain": [
       "<Figure size 432x288 with 1 Axes>"
      ]
     },
     "metadata": {
      "needs_background": "light"
     },
     "output_type": "display_data"
    },
    {
     "name": "stdout",
     "output_type": "stream",
     "text": [
      "Datatype of the image is: <class 'numpy.ndarray'>\n",
      "Dimensions of the image is : (64, 64, 3)\n",
      "Memory usage of the image is 49152\n",
      "The actual class is ['sewing machine']\n",
      "The predicted class is ['drumstick']\n"
     ]
    }
   ],
   "source": [
    "# To do: Print and visualize three inputs from the validation set. As an example, you may pick x_val[1], x_val[2] and x_val[3]\n",
    "# To do: Print the data type\n",
    "# To do: Print and note the dimensions of each image\n",
    "# To do: Print the memory required to store each image \n",
    "index_list = [4,5,6]\n",
    "for val_index in index_list:\n",
    "    arr_ = np.squeeze(x_val[val_index])\n",
    "    plt.imshow(arr_)\n",
    "    plt.show()\n",
    "    \n",
    "    #print data type\n",
    "    print (\"Datatype of the image is: \" + str(type(x_val[val_index])))\n",
    "    #print the dimensions\n",
    "    print(\"Dimensions of the image is : \" + str(x_val[val_index].shape))\n",
    "    #print the memory\n",
    "    print(\"Memory usage of the image is \" + str(x_val[val_index].size * x_val[val_index].itemsize))\n",
    "    #Print the predicted Class\n",
    "    pred = model.predict(x_val[val_index].reshape(1,64,64,3))\n",
    "    #Print the actual class\n",
    "    y_true= np.argmax(y_val[val_index])\n",
    "    y_pred = np.argmax(pred)\n",
    "    print(\"The actual class is \" + str(class_names[y_true]))\n",
    "    print(\"The predicted class is \" + str(class_names[y_pred]))"
   ]
  },
  {
   "cell_type": "markdown",
   "metadata": {},
   "source": [
    "<table>\n",
    "<tr>\n",
    "    <th>True Classes</th>\n",
    "    <th>Model Predicted Classes</th>\n",
    "    <th>Match?</th> \n",
    "</tr>\n",
    "\n",
    "\n",
    "\n",
    "<tr>\n",
    "    <td>['bathtub', 'bathing tub', 'bath', 'tub']</td> \n",
    "    <td>['dining table', 'board']</td> \n",
    "    <td>No</td>   \n",
    "</tr>\n",
    "<tr>\n",
    "    <td> ['teddy', 'teddy bear']</td> \n",
    "    <td> ['poncho']</td> \n",
    "    <td>No</td>   \n",
    "</tr>\n",
    "    <tr>\n",
    "    <td> ['sewing machine']</td> \n",
    "    <td> ['drumstick']</td> \n",
    "    <td>No</td>   \n",
    "</tr>\n",
    "</table>"
   ]
  },
  {
   "cell_type": "code",
   "execution_count": 16,
   "metadata": {},
   "outputs": [],
   "source": [
    "# To do:  Export each of the three inputs to a binary file which will be used to load later in a C program.\n",
    "# Example code to export x_val[0] to a binary file:\n",
    "\n",
    "# Load in a numpy array. # we flatten the array before exporting to binary file. So 64*64*3= 12288 elements 1d array\n",
    "# NOTE *** So we must reshape before loading in a C program\n",
    "\n",
    "# inp= np.asarray(x_val[0].flatten())\n",
    "\n",
    "# # Save in a binary file i.e. numpy.ndarray.to_file()\n",
    "\n",
    "# f_input=open(\"input.bin\",\"wb\")\n",
    "# inp.tofile(f_input)\n",
    "# f_input.close()\n",
    "index_list = [3,4,5]\n",
    "for val_index in index_list:\n",
    "    inp= np.asarray(x_val[val_index].flatten())\n",
    "    filename = 'input' + str(val_index) + '.bin'\n",
    "    f_input=open(filename, \"wb\")\n",
    "    inp.tofile(f_input)\n",
    "    f_input.close\n"
   ]
  },
  {
   "cell_type": "markdown",
   "metadata": {},
   "source": [
    "#State the different types of layers present in the neural network and write the mathemat-\n",
    "#ical formulation of each layer type\n",
    "where n is the batch size, m is the number of filters, c is the number of channels which in Conv2d is 1, r/s is filter size h/w, b is the bias term,U is the stride F is the filter weight at mcrs, I is the input feature map.\n",
    "#Conv2D\n",
    "O_nmpq = (\\sum_crs I_nc(Up + r)(Uq + s) F_mcrs) +b_m\n",
    "or replacing c with 1\n",
    "O_npq = (\\sum_rs I_n(Up + r)(Uq + s) F_mrs) +b_m\n",
    "#MaxPooling2D\n",
    "\n",
    "#Dense aka fully connected\n",
    "O_nm = \\sum_chw I_nchq F_mchw\n",
    "or replacing c = 1\n",
    "O_nm = \\sum_hw I_nhq F_mhw"
   ]
  },
  {
   "cell_type": "code",
   "execution_count": 17,
   "metadata": {},
   "outputs": [],
   "source": [
    "# To do: Print/Visualize weights of all the layers.\n",
    "# To do: Print the data type\n",
    "# To do: Print and note the dimensions of weights of each layer\n",
    "# To do: Print the memory required to store the weights of each layer\n"
   ]
  },
  {
   "cell_type": "code",
   "execution_count": 18,
   "metadata": {},
   "outputs": [],
   "source": [
    "# To do:  (Similar to input ) Export all of the weights to a binary file which will be used to load later in a C program and use in the custom C/C++ inference implementation."
   ]
  },
  {
   "cell_type": "code",
   "execution_count": 19,
   "metadata": {},
   "outputs": [],
   "source": [
    "# To do: Print/Visualize the intermediate feature maps for all of the layers for all three inputs.\n",
    "# To do: Print the data type\n",
    "# To do: Print and note the dimensions of intermediate feature maps of each layer\n",
    "# To do: Print the memory required to store the intermediate feature maps of each layer"
   ]
  },
  {
   "cell_type": "code",
   "execution_count": 20,
   "metadata": {},
   "outputs": [],
   "source": [
    "# To do:  (Similar to input ) Export all of the intermediate feature maps for all three inputs to a binary file which will be used to load later in a C program and validate custom C/C++ inference implementation."
   ]
  }
 ],
 "metadata": {
  "kernelspec": {
   "display_name": "Python 3 (ipykernel)",
   "language": "python",
   "name": "python3"
  },
  "language_info": {
   "codemirror_mode": {
    "name": "ipython",
    "version": 3
   },
   "file_extension": ".py",
   "mimetype": "text/x-python",
   "name": "python",
   "nbconvert_exporter": "python",
   "pygments_lexer": "ipython3",
   "version": "3.9.6"
  }
 },
 "nbformat": 4,
 "nbformat_minor": 4
}
