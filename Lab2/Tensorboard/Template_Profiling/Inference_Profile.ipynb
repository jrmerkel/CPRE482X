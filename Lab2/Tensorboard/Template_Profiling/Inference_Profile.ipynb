{
 "cells": [
  {
   "cell_type": "code",
   "execution_count": 1,
   "metadata": {},
   "outputs": [
    {
     "name": "stderr",
     "output_type": "stream",
     "text": [
      "2021-10-25 13:11:56.864916: I tensorflow/stream_executor/platform/default/dso_loader.cc:49] Successfully opened dynamic library libcudart.so.10.1\n"
     ]
    }
   ],
   "source": [
    "# This file provide template to download the TinyImageNet dataset and then sample code to profile: single, online and batch inference\n",
    "\n",
    "import tensorflow as tf\n",
    "import pathlib\n",
    "import numpy as np\n",
    "import os\n",
    "from datetime import datetime\n",
    "from packaging import version\n",
    "import matplotlib.pyplot as plt\n",
    "from tensorflow.keras import Model\n",
    "\n",
    "# Disable GPU!!!\n",
    "import os\n",
    "os.environ[\"CUDA_VISIBLE_DEVICES\"] = \"-1\"\n",
    "\n"
   ]
  },
  {
   "cell_type": "code",
   "execution_count": 2,
   "metadata": {},
   "outputs": [
    {
     "name": "stdout",
     "output_type": "stream",
     "text": [
      "2.4.1\n"
     ]
    }
   ],
   "source": [
    "# Should print the tf version: 2.4.1.\n",
    "print(tf.__version__)"
   ]
  },
  {
   "cell_type": "code",
   "execution_count": 3,
   "metadata": {},
   "outputs": [
    {
     "name": "stdout",
     "output_type": "stream",
     "text": [
      "Requirement already satisfied: tensorboard_plugin_profile in /usr/local/anaconda3/envs/cpre482x_tf_gpu/lib/python3.9/site-packages (2.5.0)\n",
      "Requirement already satisfied: protobuf>=3.6.0 in /usr/local/anaconda3/envs/cpre482x_tf_gpu/lib/python3.9/site-packages (from tensorboard_plugin_profile) (3.17.2)\n",
      "Requirement already satisfied: setuptools>=41.0.0 in /usr/local/anaconda3/envs/cpre482x_tf_gpu/lib/python3.9/site-packages (from tensorboard_plugin_profile) (52.0.0.post20210125)\n",
      "Requirement already satisfied: werkzeug>=0.11.15 in /usr/local/anaconda3/envs/cpre482x_tf_gpu/lib/python3.9/site-packages (from tensorboard_plugin_profile) (1.0.1)\n",
      "Requirement already satisfied: six>=1.10.0 in /usr/local/anaconda3/envs/cpre482x_tf_gpu/lib/python3.9/site-packages (from tensorboard_plugin_profile) (1.16.0)\n",
      "Requirement already satisfied: gviz-api>=1.9.0 in /usr/local/anaconda3/envs/cpre482x_tf_gpu/lib/python3.9/site-packages (from tensorboard_plugin_profile) (1.9.0)\n",
      "\u001b[33mWARNING: Running pip as the 'root' user can result in broken permissions and conflicting behaviour with the system package manager. It is recommended to use a virtual environment instead: https://pip.pypa.io/warnings/venv\u001b[0m\n"
     ]
    }
   ],
   "source": [
    "# Installs the latest tensorboard plugin\n",
    "!pip install -U tensorboard_plugin_profile"
   ]
  },
  {
   "cell_type": "code",
   "execution_count": 4,
   "metadata": {},
   "outputs": [
    {
     "data": {
      "text/plain": [
       "ProfilerOptions(host_tracer_level=1, python_tracer_level=0, device_tracer_level=1, delay_ms=None)"
      ]
     },
     "execution_count": 4,
     "metadata": {},
     "output_type": "execute_result"
    }
   ],
   "source": [
    "# Set host level to highest priority for profiling\n",
    "tf.profiler.experimental.ProfilerOptions(\n",
    "    host_tracer_level=1, python_tracer_level=0, device_tracer_level=1\n",
    ")"
   ]
  },
  {
   "cell_type": "code",
   "execution_count": 5,
   "metadata": {},
   "outputs": [],
   "source": [
    "# We have to load the tiny imagenet data as usual:\n",
    "\n",
    "# Make sure that unzipped tiny-imagenet-200 folder is placed in the current directory\n",
    "#define path to the dataset\n",
    "path = pathlib.Path('/local/tiny-imagenet-200')"
   ]
  },
  {
   "cell_type": "code",
   "execution_count": 6,
   "metadata": {},
   "outputs": [],
   "source": [
    "# Map the wnids to integer labels to words\n",
    "with open(os.path.join(path, 'wnids.txt'), 'r') as f:\n",
    "  wnids = [x.strip() for x in f]\n",
    "\n",
    "\n",
    "# Map wnids to integer labels\n",
    "wnid_to_label = {wnid: i for i, wnid in enumerate(wnids)}\n",
    "label_to_wnid = {v: k for k, v in wnid_to_label.items()}\n",
    "\n",
    "# Use words.txt to get names for each class\n",
    "with open(os.path.join(path, 'words.txt'), 'r') as f:\n",
    "  wnid_to_words = dict(line.split('\\t') for line in f)\n",
    "  for wnid, words in wnid_to_words.items():\n",
    "      wnid_to_words[wnid] = [w.strip() for w in words.split(',')]\n",
    "class_names = [wnid_to_words[wnid] for wnid in wnids]"
   ]
  },
  {
   "cell_type": "code",
   "execution_count": 7,
   "metadata": {},
   "outputs": [],
   "source": [
    "# Import necessary packages\n",
    "from __future__ import print_function\n",
    "from builtins import range\n",
    "from six.moves import cPickle as pickle\n",
    "import numpy as np\n",
    "import os\n",
    "import platform\n",
    "from tqdm import tqdm\n",
    "import random\n",
    "from imageio import imread\n",
    "from imageio import imsave\n",
    "\n",
    "\n",
    "# Function for loading the tiny imagenet data\n",
    "def load_tiny_imagenet(path, is_training=True, dtype=np.float32, subtract_mean=True, debug=False, debug_nclass=3):\n",
    "    \"\"\"\n",
    "    Load TinyImageNet. Each of TinyImageNet-100-A, TinyImageNet-100-B, and\n",
    "    TinyImageNet-200 have the same directory structure, so this can be used\n",
    "    to load any of them.\n",
    "\n",
    "    Note: The original implementation loaded data as NCHW, I (tyler) changed it to NHWC\n",
    "\n",
    "    Inputs:\n",
    "    - path: String giving path to the directory to load.\n",
    "    - is_training: If True, dont load testing data, if False, dont load training and val data\n",
    "        Note: Must always load training data in order to subtract_mean.\n",
    "    - dtype: numpy datatype used to load the data.\n",
    "    - subtract_mean: Whether to subtract the mean training image.\n",
    "    - debug: Whether or not to load a small number of classes for debugging\n",
    "\n",
    "    Returns: A dictionary with the following entries:\n",
    "    - class_names: A list where class_names[i] is a list of strings giving the\n",
    "      WordNet names for class i in the loaded dataset.\n",
    "    - X_train: (N_tr, 64, 64, 3) array of training images\n",
    "    - y_train: (N_tr,) array of training labels\n",
    "    - X_val: (N_val, 64, 64, 3) array of validation images\n",
    "    - y_val: (N_val,) array of validation labels\n",
    "    - X_test: (N_test, 64, 64, 3) array of testing images.\n",
    "    - y_test: (N_test,) array of test labels; if test labels are not available\n",
    "      (such as in student code) then y_test will be None.\n",
    "    - mean_image: (64, 64, 3) array giving mean training image\n",
    "    - label_to_wnid: dictionary with mapping from integer class label to wnid\n",
    "    \"\"\"\n",
    "    # First load wnids\n",
    "    with open(os.path.join(path, 'wnids.txt'), 'r') as f:\n",
    "        wnids = [x.strip() for x in f]\n",
    "\n",
    "    # Map wnids to integer labels\n",
    "    wnid_to_label = {wnid: i for i, wnid in enumerate(wnids)}\n",
    "    label_to_wnid = {v: k for k, v in wnid_to_label.items()}\n",
    "\n",
    "    # Use words.txt to get names for each class\n",
    "    with open(os.path.join(path, 'words.txt'), 'r') as f:\n",
    "        wnid_to_words = dict(line.split('\\t') for line in f)\n",
    "        for wnid, words in wnid_to_words.items():\n",
    "            wnid_to_words[wnid] = [w.strip() for w in words.split(',')]\n",
    "    class_names = [wnid_to_words[wnid] for wnid in wnids]\n",
    "\n",
    "    if debug:\n",
    "        print('Debug is on! Only loading %d / %d training classes.'\n",
    "                  % (debug_nclass, len(wnids)))\n",
    "\n",
    "    # Next load training data.\n",
    "    X_train, y_train = [], []\n",
    "    train_wnids = wnids[:debug_nclass] if debug else wnids\n",
    "    for i, wnid in tqdm(enumerate(train_wnids), total=len(train_wnids)):\n",
    "        # To figure out the filenames we need to open the boxes file\n",
    "        boxes_file = os.path.join(path, 'train', wnid, '%s_boxes.txt' % wnid)\n",
    "        with open(boxes_file, 'r') as f:\n",
    "            filenames = [x.split('\\t')[0] for x in f]\n",
    "        num_images = len(filenames)\n",
    "\n",
    "        X_train_block = np.zeros((num_images, 64, 64, 3), dtype=dtype)\n",
    "        y_train_block = wnid_to_label[wnid] * \\\n",
    "                        np.ones(num_images, dtype=np.int64)\n",
    "        for j, img_file in enumerate(filenames):\n",
    "            img_file = os.path.join(path, 'train', wnid, 'images', img_file)\n",
    "            img = imread(img_file)\n",
    "            if img.ndim == 2:   ## grayscale file\n",
    "                img.shape = (64, 64, 1)\n",
    "            X_train_block[j] = img\n",
    "        X_train.append(X_train_block)\n",
    "        y_train.append(y_train_block)\n",
    "\n",
    "    # We need to concatenate all training data\n",
    "    X_train = np.concatenate(X_train, axis=0)\n",
    "    y_train = np.concatenate(y_train, axis=0)\n",
    "\n",
    "    # Next load validation data\n",
    "    X_val, y_val = None, None\n",
    "    if is_training:\n",
    "        print('loading validation data')\n",
    "        with open(os.path.join(path, 'val', 'val_annotations.txt'), 'r') as f:\n",
    "            img_files = []\n",
    "            val_wnids = []\n",
    "            for line in f:\n",
    "                img_file, wnid = line.split('\\t')[:2]\n",
    "                img_files.append(img_file)\n",
    "                val_wnids.append(wnid)\n",
    "            num_val = len(img_files)\n",
    "            y_val = np.array([wnid_to_label[wnid] for wnid in val_wnids])\n",
    "            X_val = np.zeros((num_val, 64, 64, 3), dtype=dtype)\n",
    "            for i, img_file in tqdm(enumerate(img_files), total=len(img_files)):\n",
    "                img_file = os.path.join(path, 'val', 'images', img_file)\n",
    "                img = imread(img_file)\n",
    "                if img.ndim == 2:\n",
    "                    img.shape = (64, 64, 1)\n",
    "                X_val[i] = img\n",
    "\n",
    "    mean_image = None\n",
    "    if subtract_mean:\n",
    "        mean_image = X_train.mean(axis=0)\n",
    "        if is_training:\n",
    "            X_train -= mean_image[None]\n",
    "            X_val -= mean_image[None]\n",
    "        else:\n",
    "            X_test -= mean_image[None]\n",
    "\n",
    "    if not is_training:\n",
    "        X_train = None\n",
    "        y_train = None\n",
    "\n",
    "    return {\n",
    "      'class_names': class_names,\n",
    "      'X_train': X_train,\n",
    "      'y_train': y_train,\n",
    "      'X_val': X_val,\n",
    "      'y_val': y_val,\n",
    "      'mean_image': mean_image,\n",
    "      'label_to_wnid': label_to_wnid\n",
    "    }\n"
   ]
  },
  {
   "cell_type": "code",
   "execution_count": 8,
   "metadata": {},
   "outputs": [
    {
     "name": "stdout",
     "output_type": "stream",
     "text": [
      "Loading Tiny-Imagenet Dataset for training and validation data\n"
     ]
    },
    {
     "name": "stderr",
     "output_type": "stream",
     "text": [
      "100%|█████████████████████████████████████████| 200/200 [01:01<00:00,  3.25it/s]\n"
     ]
    },
    {
     "name": "stdout",
     "output_type": "stream",
     "text": [
      "loading validation data\n"
     ]
    },
    {
     "name": "stderr",
     "output_type": "stream",
     "text": [
      "100%|███████████████████████████████████| 10000/10000 [00:06<00:00, 1533.95it/s]\n"
     ]
    }
   ],
   "source": [
    "print (\"Loading Tiny-Imagenet Dataset for training and validation data\")\n",
    "dataset_train_val = load_tiny_imagenet(path, is_training = True, dtype=np.float32, subtract_mean=False)\n",
    "x_val = dataset_train_val[\"X_val\"] # 10000 images when each is a 64*64*3\n",
    "y_val = dataset_train_val[\"y_val\"] # 10000 elements\n"
   ]
  },
  {
   "cell_type": "code",
   "execution_count": 9,
   "metadata": {},
   "outputs": [],
   "source": [
    "# Normalize all the float data between 0 and 1\n",
    "x_val = x_val/255.0"
   ]
  },
  {
   "cell_type": "code",
   "execution_count": 10,
   "metadata": {},
   "outputs": [],
   "source": [
    "# one hot encode y data\n",
    "from tensorflow.keras.utils import to_categorical\n",
    "num_classes = 200\n",
    "y_val = to_categorical(y_val, num_classes)"
   ]
  },
  {
   "cell_type": "code",
   "execution_count": 11,
   "metadata": {},
   "outputs": [
    {
     "name": "stderr",
     "output_type": "stream",
     "text": [
      "2021-10-25 13:13:17.538775: I tensorflow/compiler/jit/xla_cpu_device.cc:41] Not creating XLA devices, tf_xla_enable_xla_devices not set\n",
      "2021-10-25 13:13:17.567343: I tensorflow/stream_executor/platform/default/dso_loader.cc:49] Successfully opened dynamic library libcuda.so.1\n",
      "2021-10-25 13:13:17.610701: E tensorflow/stream_executor/cuda/cuda_driver.cc:328] failed call to cuInit: CUDA_ERROR_NO_DEVICE: no CUDA-capable device is detected\n",
      "2021-10-25 13:13:17.617057: I tensorflow/stream_executor/cuda/cuda_diagnostics.cc:169] retrieving CUDA diagnostic information for host: cpre482-05.ece.iastate.edu\n",
      "2021-10-25 13:13:17.617074: I tensorflow/stream_executor/cuda/cuda_diagnostics.cc:176] hostname: cpre482-05.ece.iastate.edu\n",
      "2021-10-25 13:13:17.621069: I tensorflow/stream_executor/cuda/cuda_diagnostics.cc:200] libcuda reported version is: 470.63.1\n",
      "2021-10-25 13:13:17.621136: I tensorflow/stream_executor/cuda/cuda_diagnostics.cc:204] kernel reported version is: 470.63.1\n",
      "2021-10-25 13:13:17.621145: I tensorflow/stream_executor/cuda/cuda_diagnostics.cc:310] kernel version seems to match DSO: 470.63.1\n",
      "2021-10-25 13:13:17.632800: I tensorflow/core/platform/cpu_feature_guard.cc:142] This TensorFlow binary is optimized with oneAPI Deep Neural Network Library (oneDNN) to use the following CPU instructions in performance-critical operations:  SSE4.1 SSE4.2 AVX AVX2 AVX512F FMA\n",
      "To enable them in other operations, rebuild TensorFlow with the appropriate compiler flags.\n",
      "2021-10-25 13:13:17.633099: I tensorflow/compiler/jit/xla_gpu_device.cc:99] Not creating XLA devices, tf_xla_enable_xla_devices not set\n"
     ]
    }
   ],
   "source": [
    "# To do:  Load the H5 model and print summary. \n",
    "# Please make sure the h5 model file is present in the /local/ directory\n",
    "# Sample code to load the model\n",
    "model = tf.keras.models.load_model('/local/CNN_TinyImageNet_2.h5')"
   ]
  },
  {
   "cell_type": "code",
   "execution_count": 48,
   "metadata": {
    "scrolled": true
   },
   "outputs": [
    {
     "name": "stdout",
     "output_type": "stream",
     "text": [
      "Plotting histogram of weights for layer: conv2d\n",
      "(5, 5, 3, 32)\n",
      "(32,)\n"
     ]
    },
    {
     "data": {
      "image/png": "[encoded data removed]",
      "text/plain": [
       "<Figure size 432x288 with 1 Axes>"
      ]
     },
     "metadata": {
      "needs_background": "light"
     },
     "output_type": "display_data"
    },
    {
     "name": "stdout",
     "output_type": "stream",
     "text": [
      "Max value: 0.23425443 \tMin value: -0.30287936\n",
      "Plotting histogram of weights for layer: conv2d_1\n",
      "(5, 5, 32, 32)\n",
      "(32,)\n"
     ]
    },
    {
     "data": {
      "image/png": "[encoded data removed]",
      "text/plain": [
       "<Figure size 432x288 with 1 Axes>"
      ]
     },
     "metadata": {
      "needs_background": "light"
     },
     "output_type": "display_data"
    },
    {
     "name": "stdout",
     "output_type": "stream",
     "text": [
      "Max value: 0.38255093 \tMin value: -0.48677802\n",
      "Plotting histogram of weights for layer: max_pooling2d\n"
     ]
    },
    {
     "data": {
      "image/png": "[encoded data removed]",
      "text/plain": [
       "<Figure size 432x288 with 1 Axes>"
      ]
     },
     "metadata": {
      "needs_background": "light"
     },
     "output_type": "display_data"
    },
    {
     "name": "stdout",
     "output_type": "stream",
     "text": [
      "Max value: -1000000 \tMin value: 1000000\n",
      "Plotting histogram of weights for layer: conv2d_2\n",
      "(3, 3, 32, 64)\n",
      "(64,)\n"
     ]
    },
    {
     "data": {
      "image/png": "[encoded data removed]",
      "text/plain": [
       "<Figure size 432x288 with 1 Axes>"
      ]
     },
     "metadata": {
      "needs_background": "light"
     },
     "output_type": "display_data"
    },
    {
     "name": "stdout",
     "output_type": "stream",
     "text": [
      "Max value: 0.32482615 \tMin value: -0.69237816\n",
      "Plotting histogram of weights for layer: conv2d_3\n",
      "(3, 3, 64, 64)\n",
      "(64,)\n"
     ]
    },
    {
     "data": {
      "image/png": "[encoded data removed]",
      "text/plain": [
       "<Figure size 432x288 with 1 Axes>"
      ]
     },
     "metadata": {
      "needs_background": "light"
     },
     "output_type": "display_data"
    },
    {
     "name": "stdout",
     "output_type": "stream",
     "text": [
      "Max value: 0.3629086 \tMin value: -0.54154724\n",
      "Plotting histogram of weights for layer: max_pooling2d_1\n"
     ]
    },
    {
     "data": {
      "image/png": "[encoded data removed]",
      "text/plain": [
       "<Figure size 432x288 with 1 Axes>"
      ]
     },
     "metadata": {
      "needs_background": "light"
     },
     "output_type": "display_data"
    },
    {
     "name": "stdout",
     "output_type": "stream",
     "text": [
      "Max value: -1000000 \tMin value: 1000000\n",
      "Plotting histogram of weights for layer: conv2d_4\n",
      "(3, 3, 64, 64)\n",
      "(64,)\n"
     ]
    },
    {
     "data": {
      "image/png": "[encoded data removed]",
      "text/plain": [
       "<Figure size 432x288 with 1 Axes>"
      ]
     },
     "metadata": {
      "needs_background": "light"
     },
     "output_type": "display_data"
    },
    {
     "name": "stdout",
     "output_type": "stream",
     "text": [
      "Max value: 0.36240163 \tMin value: -0.53667915\n",
      "Plotting histogram of weights for layer: conv2d_5\n",
      "(3, 3, 64, 128)\n",
      "(128,)\n"
     ]
    },
    {
     "data": {
      "image/png": "[encoded data removed]",
      "text/plain": [
       "<Figure size 432x288 with 1 Axes>"
      ]
     },
     "metadata": {
      "needs_background": "light"
     },
     "output_type": "display_data"
    },
    {
     "name": "stdout",
     "output_type": "stream",
     "text": [
      "Max value: 0.46819156 \tMin value: -0.51065516\n",
      "Plotting histogram of weights for layer: max_pooling2d_2\n"
     ]
    },
    {
     "data": {
      "image/png": "[encoded data removed]",
      "text/plain": [
       "<Figure size 432x288 with 1 Axes>"
      ]
     },
     "metadata": {
      "needs_background": "light"
     },
     "output_type": "display_data"
    },
    {
     "name": "stdout",
     "output_type": "stream",
     "text": [
      "Max value: -1000000 \tMin value: 1000000\n",
      "Plotting histogram of weights for layer: flatten\n"
     ]
    },
    {
     "data": {
      "image/png": "[encoded data removed]",
      "text/plain": [
       "<Figure size 432x288 with 1 Axes>"
      ]
     },
     "metadata": {
      "needs_background": "light"
     },
     "output_type": "display_data"
    },
    {
     "name": "stdout",
     "output_type": "stream",
     "text": [
      "Max value: -1000000 \tMin value: 1000000\n",
      "Plotting histogram of weights for layer: dense\n",
      "(2048, 256)\n"
     ]
    },
    {
     "data": {
      "image/png": "[encoded data removed]",
      "text/plain": [
       "<Figure size 432x288 with 1 Axes>"
      ]
     },
     "metadata": {
      "needs_background": "light"
     },
     "output_type": "display_data"
    },
    {
     "name": "stdout",
     "output_type": "stream",
     "text": [
      "Max value: 0.51280224 \tMin value: -0.5575851\n",
      "Plotting histogram of weights for layer: dense_1\n",
      "(256, 200)\n"
     ]
    },
    {
     "data": {
      "image/png": "[encoded data removed]",
      "text/plain": [
       "<Figure size 432x288 with 1 Axes>"
      ]
     },
     "metadata": {
      "needs_background": "light"
     },
     "output_type": "display_data"
    },
    {
     "name": "stdout",
     "output_type": "stream",
     "text": [
      "Max value: 0.36657497 \tMin value: -1.3241189\n"
     ]
    }
   ],
   "source": [
    "#plot histogram with weights of each layer\n",
    "for layer in model.layers:\n",
    "    print('Plotting histogram of weights for layer:', layer.name)\n",
    "    max=-1000000\n",
    "    min=1000000\n",
    "    weight_arr=[]\n",
    "    if(layer.name[:5]=='dense'):\n",
    "        for weight in layer.trainable_weights:\n",
    "            if(weight.name[-8:-2]=='kernel'):\n",
    "                print(weight.shape)\n",
    "                sh=weight.shape\n",
    "                if(len(sh)>1):\n",
    "                    for i in range(sh[1]):\n",
    "                        for j in range(sh[0]):\n",
    "                            temp=weight[j][i].numpy()\n",
    "                            weight_arr.append(temp)\n",
    "                            if(temp<min):\n",
    "                                min=temp\n",
    "                            elif(temp>max):\n",
    "                                max=temp\n",
    "                elif(len(sh)==1):\n",
    "                    for i in range(sh[1]):\n",
    "                        temp=weight[i].numpy()\n",
    "                        weight_arr.append(temp)\n",
    "                        if(temp<min):\n",
    "                            min=temp\n",
    "                        elif(temp>max):\n",
    "                            max=temp\n",
    "    elif(layer.name[:6]=='conv2d'):\n",
    "        for weight in layer.trainable_weights:\n",
    "            print(weight.shape)\n",
    "            if(weight.name[-8:-2]=='kernel'):\n",
    "                sh=weight.shape\n",
    "                for i in range(sh[3]):\n",
    "                    for j in range(sh[2]):\n",
    "                        for k in range(sh[1]):\n",
    "                            for l in range(sh[0]):\n",
    "                                temp=weight[l][k][j][i].numpy()\n",
    "                                weight_arr.append(temp)\n",
    "                                if(temp<min):\n",
    "                                    min=temp\n",
    "                                elif(temp>max):\n",
    "                                    max=temp\n",
    "    plt.hist(x=weight_arr)\n",
    "    plt.title('Histogram of weight values')\n",
    "    plt.show()\n",
    "    print('Max value:', max, '\\tMin value:', min)"
   ]
  },
  {
   "cell_type": "code",
   "execution_count": 17,
   "metadata": {},
   "outputs": [
    {
     "name": "stdout",
     "output_type": "stream",
     "text": [
      "For input 0 the overall max was: 6.639667 \tand the min was: 0.0\n",
      "For input 1 the overall max was: 5.7704473 \tand the min was: 0.0\n",
      "For input 2 the overall max was: 7.8490777 \tand the min was: 0.0\n",
      "For input 3 the overall max was: 5.990602 \tand the min was: 0.0\n",
      "For input 4 the overall max was: 6.9933877 \tand the min was: 0.0\n",
      "For input 5 the overall max was: 9.394577 \tand the min was: 0.0\n",
      "For input 6 the overall max was: 8.372002 \tand the min was: 0.0\n",
      "For input 7 the overall max was: 7.376078 \tand the min was: 0.0\n",
      "For input 8 the overall max was: 11.364721 \tand the min was: 0.0\n",
      "For input 9 the overall max was: 9.177035 \tand the min was: 0.0\n",
      "For input 10 the overall max was: 5.444064 \tand the min was: 0.0\n",
      "For input 11 the overall max was: 7.7049894 \tand the min was: 0.0\n",
      "For input 12 the overall max was: 5.634299 \tand the min was: 0.0\n",
      "For input 13 the overall max was: 5.933371 \tand the min was: 0.0\n",
      "For input 14 the overall max was: 9.538737 \tand the min was: 0.0\n",
      "For input 15 the overall max was: 8.066971 \tand the min was: 0.0\n",
      "For input 16 the overall max was: 5.7648854 \tand the min was: 0.0\n",
      "For input 17 the overall max was: 4.371537 \tand the min was: 0.0\n",
      "For input 18 the overall max was: 8.104065 \tand the min was: 0.0\n",
      "For input 19 the overall max was: 6.081563 \tand the min was: 0.0\n",
      "For input 20 the overall max was: 5.9367943 \tand the min was: 0.0\n",
      "For input 21 the overall max was: 7.487737 \tand the min was: 0.0\n",
      "For input 22 the overall max was: 5.230978 \tand the min was: 0.0\n",
      "For input 23 the overall max was: 7.0765014 \tand the min was: 0.0\n",
      "For input 24 the overall max was: 5.7555914 \tand the min was: 0.0\n",
      "For input 25 the overall max was: 6.613846 \tand the min was: 0.0\n",
      "For input 26 the overall max was: 7.219021 \tand the min was: 0.0\n",
      "For input 27 the overall max was: 9.857101 \tand the min was: 0.0\n",
      "For input 28 the overall max was: 8.578608 \tand the min was: 0.0\n",
      "For input 29 the overall max was: 7.294605 \tand the min was: 0.0\n",
      "For input 30 the overall max was: 7.403737 \tand the min was: 0.0\n",
      "For input 31 the overall max was: 8.871348 \tand the min was: 0.0\n",
      "For input 32 the overall max was: 8.589472 \tand the min was: 0.0\n",
      "For input 33 the overall max was: 9.816205 \tand the min was: 0.0\n",
      "For input 34 the overall max was: 8.919146 \tand the min was: 0.0\n",
      "For input 35 the overall max was: 14.422929 \tand the min was: 0.0\n",
      "For input 36 the overall max was: 6.5157847 \tand the min was: 0.0\n",
      "For input 37 the overall max was: 7.683693 \tand the min was: 0.0\n",
      "For input 38 the overall max was: 5.0905523 \tand the min was: 0.0\n",
      "For input 39 the overall max was: 4.986036 \tand the min was: 0.0\n",
      "For input 40 the overall max was: 5.2104335 \tand the min was: 0.0\n",
      "For input 41 the overall max was: 6.5140743 \tand the min was: 0.0\n",
      "For input 42 the overall max was: 11.507282 \tand the min was: 0.0\n",
      "For input 43 the overall max was: 5.291637 \tand the min was: 0.0\n",
      "For input 44 the overall max was: 6.315325 \tand the min was: 0.0\n",
      "For input 45 the overall max was: 7.5030622 \tand the min was: 0.0\n",
      "For input 46 the overall max was: 4.5398045 \tand the min was: 0.0\n",
      "For input 47 the overall max was: 9.775001 \tand the min was: 0.0\n",
      "For input 48 the overall max was: 5.356209 \tand the min was: 0.0\n",
      "For input 49 the overall max was: 5.9130683 \tand the min was: 0.0\n",
      "For input 50 the overall max was: 8.893986 \tand the min was: 0.0\n",
      "For input 51 the overall max was: 5.25141 \tand the min was: 0.0\n",
      "For input 52 the overall max was: 5.292938 \tand the min was: 0.0\n",
      "For input 53 the overall max was: 5.488101 \tand the min was: 0.0\n",
      "For input 54 the overall max was: 7.797757 \tand the min was: 0.0\n",
      "For input 55 the overall max was: 6.6709356 \tand the min was: 0.0\n",
      "For input 56 the overall max was: 6.825312 \tand the min was: 0.0\n",
      "For input 57 the overall max was: 8.563048 \tand the min was: 0.0\n",
      "For input 58 the overall max was: 7.3021874 \tand the min was: 0.0\n",
      "For input 59 the overall max was: 8.212653 \tand the min was: 0.0\n",
      "For input 60 the overall max was: 6.6964464 \tand the min was: 0.0\n",
      "For input 61 the overall max was: 10.080217 \tand the min was: 0.0\n",
      "For input 62 the overall max was: 7.9468226 \tand the min was: 0.0\n",
      "For input 63 the overall max was: 10.377172 \tand the min was: 0.0\n",
      "For input 64 the overall max was: 8.528847 \tand the min was: 0.0\n",
      "For input 65 the overall max was: 7.9486346 \tand the min was: 0.0\n",
      "For input 66 the overall max was: 5.87518 \tand the min was: 0.0\n",
      "For input 67 the overall max was: 8.39352 \tand the min was: 0.0\n",
      "For input 68 the overall max was: 6.6802807 \tand the min was: 0.0\n",
      "For input 69 the overall max was: 6.8904085 \tand the min was: 0.0\n",
      "For input 70 the overall max was: 6.570327 \tand the min was: 0.0\n",
      "For input 71 the overall max was: 4.6673207 \tand the min was: 0.0\n",
      "For input 72 the overall max was: 7.171236 \tand the min was: 0.0\n",
      "For input 73 the overall max was: 10.373566 \tand the min was: 0.0\n",
      "For input 74 the overall max was: 9.7144985 \tand the min was: 0.0\n",
      "For input 75 the overall max was: 5.3099065 \tand the min was: 0.0\n",
      "For input 76 the overall max was: 4.302469 \tand the min was: 0.0\n",
      "For input 77 the overall max was: 5.9096394 \tand the min was: 0.0\n",
      "For input 78 the overall max was: 6.7405267 \tand the min was: 0.0\n",
      "For input 79 the overall max was: 7.4128623 \tand the min was: 0.0\n",
      "For input 80 the overall max was: 6.3523593 \tand the min was: 0.0\n",
      "For input 81 the overall max was: 8.246543 \tand the min was: 0.0\n",
      "For input 82 the overall max was: 8.975207 \tand the min was: 0.0\n",
      "For input 83 the overall max was: 6.204232 \tand the min was: 0.0\n",
      "For input 84 the overall max was: 15.550034 \tand the min was: 0.0\n",
      "For input 85 the overall max was: 8.438073 \tand the min was: 0.0\n",
      "For input 86 the overall max was: 8.380854 \tand the min was: 0.0\n",
      "For input 87 the overall max was: 6.304883 \tand the min was: 0.0\n",
      "For input 88 the overall max was: 7.91881 \tand the min was: 0.0\n",
      "For input 89 the overall max was: 7.34567 \tand the min was: 0.0\n",
      "For input 90 the overall max was: 7.8463855 \tand the min was: 0.0\n",
      "For input 91 the overall max was: 8.512089 \tand the min was: 0.0\n",
      "For input 92 the overall max was: 7.2244363 \tand the min was: 0.0\n",
      "For input 93 the overall max was: 5.7759733 \tand the min was: 0.0\n",
      "For input 94 the overall max was: 5.8500032 \tand the min was: 0.0\n",
      "For input 95 the overall max was: 6.6491785 \tand the min was: 0.0\n",
      "For input 96 the overall max was: 5.995583 \tand the min was: 0.0\n",
      "For input 97 the overall max was: 4.668331 \tand the min was: 0.0\n",
      "For input 98 the overall max was: 7.1045427 \tand the min was: 0.0\n",
      "For input 99 the overall max was: 8.825941 \tand the min was: 0.0\n"
     ]
    }
   ],
   "source": [
    "layer_outputs = []\n",
    "for layer in model.layers:\n",
    "    layer_outputs.append(layer.output)\n",
    "feature_map_model = tf.keras.models.Model(model.input, outputs=layer_outputs)\n",
    "#print min-max for the activations of each layer for each of the 100 inputs\n",
    "for i in range(100):\n",
    "    inp=x_val[i]\n",
    "    fmaps_out = feature_map_model.predict(inp.reshape(1,64,64,3))\n",
    "    min=1000000\n",
    "    max=-1000000\n",
    "    for fmap in fmaps_out:\n",
    "        fmap_flat = np.asarray(fmap).flatten()\n",
    "        for element in fmap_flat:\n",
    "            if(element>max):\n",
    "                max=element\n",
    "            elif(element<min):\n",
    "                min=element\n",
    "    print('For input', i, 'the overall max was:', max, '\\tand the min was:', min)"
   ]
  },
  {
   "cell_type": "code",
   "execution_count": 14,
   "metadata": {},
   "outputs": [
    {
     "name": "stdout",
     "output_type": "stream",
     "text": [
      "Model: \"sequential\"\n",
      "_________________________________________________________________\n",
      "Layer (type)                 Output Shape              Param #   \n",
      "=================================================================\n",
      "conv2d (Conv2D)              (None, 60, 60, 32)        2432      \n",
      "_________________________________________________________________\n",
      "conv2d_1 (Conv2D)            (None, 56, 56, 32)        25632     \n",
      "_________________________________________________________________\n",
      "max_pooling2d (MaxPooling2D) (None, 28, 28, 32)        0         \n",
      "_________________________________________________________________\n",
      "conv2d_2 (Conv2D)            (None, 26, 26, 64)        18496     \n",
      "_________________________________________________________________\n",
      "conv2d_3 (Conv2D)            (None, 24, 24, 64)        36928     \n",
      "_________________________________________________________________\n",
      "max_pooling2d_1 (MaxPooling2 (None, 12, 12, 64)        0         \n",
      "_________________________________________________________________\n",
      "conv2d_4 (Conv2D)            (None, 10, 10, 64)        36928     \n",
      "_________________________________________________________________\n",
      "conv2d_5 (Conv2D)            (None, 8, 8, 128)         73856     \n",
      "_________________________________________________________________\n",
      "max_pooling2d_2 (MaxPooling2 (None, 4, 4, 128)         0         \n",
      "_________________________________________________________________\n",
      "flatten (Flatten)            (None, 2048)              0         \n",
      "_________________________________________________________________\n",
      "dense (Dense)                (None, 256)               524544    \n",
      "_________________________________________________________________\n",
      "dense_1 (Dense)              (None, 200)               51400     \n",
      "=================================================================\n",
      "Total params: 770,216\n",
      "Trainable params: 770,216\n",
      "Non-trainable params: 0\n",
      "_________________________________________________________________\n"
     ]
    }
   ],
   "source": [
    "model.summary()"
   ]
  },
  {
   "cell_type": "code",
   "execution_count": 17,
   "metadata": {
    "scrolled": true
   },
   "outputs": [
    {
     "ename": "AlreadyExistsError",
     "evalue": "Another profiler is running.",
     "output_type": "error",
     "traceback": [
      "\u001b[0;31m---------------------------------------------------------------------------\u001b[0m",
      "\u001b[0;31mAlreadyExistsError\u001b[0m                        Traceback (most recent call last)",
      "\u001b[0;32m/tmp/ipykernel_24494/561545395.py\u001b[0m in \u001b[0;36m<module>\u001b[0;34m\u001b[0m\n\u001b[1;32m     14\u001b[0m \u001b[0;34m\u001b[0m\u001b[0m\n\u001b[1;32m     15\u001b[0m \u001b[0;31m# Starts Profile logging\u001b[0m\u001b[0;34m\u001b[0m\u001b[0;34m\u001b[0m\u001b[0;34m\u001b[0m\u001b[0m\n\u001b[0;32m---> 16\u001b[0;31m \u001b[0mtf\u001b[0m\u001b[0;34m.\u001b[0m\u001b[0mprofiler\u001b[0m\u001b[0;34m.\u001b[0m\u001b[0mexperimental\u001b[0m\u001b[0;34m.\u001b[0m\u001b[0mstart\u001b[0m\u001b[0;34m(\u001b[0m\u001b[0mlogs\u001b[0m\u001b[0;34m)\u001b[0m\u001b[0;34m\u001b[0m\u001b[0;34m\u001b[0m\u001b[0m\n\u001b[0m\u001b[1;32m     17\u001b[0m \u001b[0;34m\u001b[0m\u001b[0m\n\u001b[1;32m     18\u001b[0m \u001b[0;31m# Actual inference\u001b[0m\u001b[0;34m\u001b[0m\u001b[0;34m\u001b[0m\u001b[0;34m\u001b[0m\u001b[0m\n",
      "\u001b[0;32m/usr/local/anaconda3/envs/cpre482x_tf_gpu/lib/python3.9/site-packages/tensorflow/python/profiler/profiler_v2.py\u001b[0m in \u001b[0;36mstart\u001b[0;34m(logdir, options)\u001b[0m\n\u001b[1;32m    113\u001b[0m   \u001b[0;32mwith\u001b[0m \u001b[0m_profiler_lock\u001b[0m\u001b[0;34m:\u001b[0m\u001b[0;34m\u001b[0m\u001b[0;34m\u001b[0m\u001b[0m\n\u001b[1;32m    114\u001b[0m     \u001b[0;32mif\u001b[0m \u001b[0m_profiler\u001b[0m \u001b[0;32mis\u001b[0m \u001b[0;32mnot\u001b[0m \u001b[0;32mNone\u001b[0m\u001b[0;34m:\u001b[0m\u001b[0;34m\u001b[0m\u001b[0;34m\u001b[0m\u001b[0m\n\u001b[0;32m--> 115\u001b[0;31m       raise errors.AlreadyExistsError(None, None,\n\u001b[0m\u001b[1;32m    116\u001b[0m                                       'Another profiler is running.')\n\u001b[1;32m    117\u001b[0m     \u001b[0m_profiler\u001b[0m \u001b[0;34m=\u001b[0m \u001b[0m_pywrap_profiler\u001b[0m\u001b[0;34m.\u001b[0m\u001b[0mProfilerSession\u001b[0m\u001b[0;34m(\u001b[0m\u001b[0;34m)\u001b[0m\u001b[0;34m\u001b[0m\u001b[0;34m\u001b[0m\u001b[0m\n",
      "\u001b[0;31mAlreadyExistsError\u001b[0m: Another profiler is running."
     ]
    }
   ],
   "source": [
    "# Sample Profiling: Inference for a single image:\n",
    "\n",
    "# chose any desired image between 0 and 9999 (10,000 validation set images)\n",
    "image_index=0\n",
    "\n",
    "# load the data\n",
    "val_single_image = tf.data.Dataset.from_tensors(x_val[image_index].reshape(1,64,64,3)) \n",
    "\n",
    "\n",
    "logs=\"/local/Lab2/Tensorboard/Template_Profiling/logs/\" + datetime.now().strftime(\"%Y%m%d-%H%M%S\")\n",
    "\n",
    "\n",
    "# Perform the inference profiling:\n",
    "\n",
    "# Starts Profile logging\n",
    "tf.profiler.experimental.start(logs)\n",
    "\n",
    "# Actual inference\n",
    "model.predict(val_single_image, use_multiprocessing=True)\n",
    "\n",
    "# Stops Profile logging\n",
    "tf.profiler.experimental.stop()\n",
    "\n",
    "# Load the TensorBoard notebook extension.\n",
    "%load_ext tensorboard\n",
    "\n",
    "# Launch TensorBoard and navigate to the Profile tab to view performance profile. \n",
    "# *** Please note just execute this command ones in a session and \n",
    "# then logs for subsequent runs would be auto detected in tensorboard- url: http://localhost:6006/\n",
    "%tensorboard --logdir=logs\n",
    "\n",
    "# You could view the tensorboard in the browser url: http://localhost:6006/"
   ]
  },
  {
   "cell_type": "markdown",
   "metadata": {},
   "source": [
    "# Test Input 1:\n",
    "### Latency time:\n",
    "99.9 ms\n",
    "### Layer type that dominates inference time:\n",
    "The layer type that dominates inference latency time is named FusedConv2d in Tensorboard. It takes up 94.1% of the latency time. The likely reason for this is that convolutional layers require many more computations than the other layers that appear in the model. Additionally, convolutional layers are the most common layer type for this model.\n",
    "### Layer that dominates inference time:\n",
    "Based on TensorBoard outputs, the layer that contributed the most to the latency in the inference time is the second 2D convolutional layer, called conv2d_1. This is likely because this layer has a large number of parameters (25632) along with a large output when compared to the other layers (56, 56, 32). This means that conv2d_1 is performing more operations than the other layers, thus contributing the most to the latency time."
   ]
  },
  {
   "cell_type": "code",
   "execution_count": 33,
   "metadata": {},
   "outputs": [
    {
     "data": {
      "image/png": "[encoded data removed]",
      "text/plain": [
       "<Figure size 1440x720 with 1 Axes>"
      ]
     },
     "metadata": {
      "needs_background": "light"
     },
     "output_type": "display_data"
    }
   ],
   "source": [
    "#plotting layer latency by layer name\n",
    "path = '/local/Lab2/Tensorboard/Single_Inference/Plots/input1_plot.png'\n",
    "layers = []\n",
    "for i in range(len(model.layers)):\n",
    "    layers.append(model.layers[i].name)\n",
    "latency_arr = [296567, 921669, 40722, 125756, 202422, 11891, 51855, 40049, 2283, 0, 4115, 995]\n",
    "plt.figure(figsize=(20,10))\n",
    "plt.bar(layers, latency_arr)\n",
    "plt.xlabel('Layer name')\n",
    "plt.ylabel('Latency (us)')\n",
    "plt.savefig(path)\n",
    "plt.show()"
   ]
  },
  {
   "cell_type": "code",
   "execution_count": 35,
   "metadata": {},
   "outputs": [
    {
     "name": "stdout",
     "output_type": "stream",
     "text": [
      "The tensorboard extension is already loaded. To reload it, use:\n",
      "  %reload_ext tensorboard\n"
     ]
    },
    {
     "name": "stderr",
     "output_type": "stream",
     "text": [
      "2021-09-27 13:16:10.008609: I tensorflow/core/profiler/lib/profiler_session.cc:136] Profiler session initializing.\n",
      "2021-09-27 13:16:10.008648: I tensorflow/core/profiler/lib/profiler_session.cc:155] Profiler session started.\n",
      "2021-09-27 13:16:10.041889: I tensorflow/core/profiler/lib/profiler_session.cc:71] Profiler session collecting data.\n",
      "2021-09-27 13:16:10.042996: I tensorflow/core/profiler/lib/profiler_session.cc:172] Profiler session tear down.\n",
      "2021-09-27 13:16:10.044204: I tensorflow/core/profiler/rpc/client/save_profile.cc:137] Creating directory: /local/Lab2/Tensorboard/Template_Profiling/logs/20210927-131610/plugins/profile/2021_09_27_13_16_10\n",
      "2021-09-27 13:16:10.044978: I tensorflow/core/profiler/rpc/client/save_profile.cc:143] Dumped gzipped tool data for trace.json.gz to /local/Lab2/Tensorboard/Template_Profiling/logs/20210927-131610/plugins/profile/2021_09_27_13_16_10/cpre482-05.ece.iastate.edu.trace.json.gz\n",
      "2021-09-27 13:16:10.045712: I tensorflow/core/profiler/rpc/client/save_profile.cc:137] Creating directory: /local/Lab2/Tensorboard/Template_Profiling/logs/20210927-131610/plugins/profile/2021_09_27_13_16_10\n",
      "2021-09-27 13:16:10.045810: I tensorflow/core/profiler/rpc/client/save_profile.cc:143] Dumped gzipped tool data for memory_profile.json.gz to /local/Lab2/Tensorboard/Template_Profiling/logs/20210927-131610/plugins/profile/2021_09_27_13_16_10/cpre482-05.ece.iastate.edu.memory_profile.json.gz\n",
      "2021-09-27 13:16:10.045998: I tensorflow/core/profiler/rpc/client/capture_profile.cc:251] Creating directory: /local/Lab2/Tensorboard/Template_Profiling/logs/20210927-131610/plugins/profile/2021_09_27_13_16_10Dumped tool data for xplane.pb to /local/Lab2/Tensorboard/Template_Profiling/logs/20210927-131610/plugins/profile/2021_09_27_13_16_10/cpre482-05.ece.iastate.edu.xplane.pb\n",
      "Dumped tool data for overview_page.pb to /local/Lab2/Tensorboard/Template_Profiling/logs/20210927-131610/plugins/profile/2021_09_27_13_16_10/cpre482-05.ece.iastate.edu.overview_page.pb\n",
      "Dumped tool data for input_pipeline.pb to /local/Lab2/Tensorboard/Template_Profiling/logs/20210927-131610/plugins/profile/2021_09_27_13_16_10/cpre482-05.ece.iastate.edu.input_pipeline.pb\n",
      "Dumped tool data for tensorflow_stats.pb to /local/Lab2/Tensorboard/Template_Profiling/logs/20210927-131610/plugins/profile/2021_09_27_13_16_10/cpre482-05.ece.iastate.edu.tensorflow_stats.pb\n",
      "Dumped tool data for kernel_stats.pb to /local/Lab2/Tensorboard/Template_Profiling/logs/20210927-131610/plugins/profile/2021_09_27_13_16_10/cpre482-05.ece.iastate.edu.kernel_stats.pb\n",
      "\n"
     ]
    },
    {
     "data": {
      "text/plain": [
       "Reusing TensorBoard on port 6006 (pid 15449), started 0:55:29 ago. (Use '!kill 15449' to kill it.)"
      ]
     },
     "metadata": {},
     "output_type": "display_data"
    },
    {
     "data": {
      "text/html": [
       "\n",
       "      <iframe id=\"tensorboard-frame-d630f4638bdf899f\" width=\"100%\" height=\"800\" frameborder=\"0\">\n",
       "      </iframe>\n",
       "      <script>\n",
       "        (function() {\n",
       "          const frame = document.getElementById(\"tensorboard-frame-d630f4638bdf899f\");\n",
       "          const url = new URL(\"/\", window.location);\n",
       "          const port = 6006;\n",
       "          if (port) {\n",
       "            url.port = port;\n",
       "          }\n",
       "          frame.src = url;\n",
       "        })();\n",
       "      </script>\n",
       "    "
      ],
      "text/plain": [
       "<IPython.core.display.HTML object>"
      ]
     },
     "metadata": {},
     "output_type": "display_data"
    }
   ],
   "source": [
    "# Sample Profiling: Inference for a single image:\n",
    "\n",
    "# chose any desired image between 0 and 9999 (10,000 validation set images)\n",
    "image_index=100\n",
    "\n",
    "# load the data\n",
    "val_single_image = tf.data.Dataset.from_tensors(x_val[image_index].reshape(1,64,64,3)) \n",
    "\n",
    "\n",
    "logs=\"/local/Lab2/Tensorboard/Template_Profiling/logs/\" + datetime.now().strftime(\"%Y%m%d-%H%M%S\")\n",
    "\n",
    "\n",
    "# Perform the inference profiling:\n",
    "\n",
    "# Starts Profile logging\n",
    "tf.profiler.experimental.start(logs)\n",
    "\n",
    "# Actual inference\n",
    "model.predict(val_single_image, use_multiprocessing=True)\n",
    "\n",
    "# Stops Profile logging\n",
    "tf.profiler.experimental.stop()\n",
    "\n",
    "# Load the TensorBoard notebook extension.\n",
    "%load_ext tensorboard\n",
    "\n",
    "# Launch TensorBoard and navigate to the Profile tab to view performance profile. \n",
    "# *** Please note just execute this command ones in a session and \n",
    "# then logs for subsequent runs would be auto detected in tensorboard- url: http://localhost:6006/\n",
    "%tensorboard --logdir=logs\n",
    "\n",
    "# You could view the tensorboard in the browser url: http://localhost:6006/"
   ]
  },
  {
   "cell_type": "markdown",
   "metadata": {},
   "source": [
    "# Test Input 2:\n",
    "### Latency time:\n",
    "21.2 ms\n",
    "### Layer type that dominates inference time:\n",
    "The layer type that dominates inference latency time is named FusedConv2d in Tensorboard. It takes up 85.9% of the latency time. The likely reason for this is that convolutional layers require many more computations than the other layers that appear in the model. Additionally, convolutional layers are the most common layer type for this model.\n",
    "### Layer that dominates inference time:\n",
    "Based on TensorBoard outputs, the layer that contributed the most to the latency in the inference time is the third 2D convolutional layer, called conv2d_2. However, two other convolutional layers were very similar in their contribution to the total inference latency - conv2d_2 contributed 30.6%, conv2d contributed 29.2%, conv2d_1 contributed 23.1%. The reason that conv2d_2 dominated the inference time could be specific to this input."
   ]
  },
  {
   "cell_type": "code",
   "execution_count": 38,
   "metadata": {
    "scrolled": false
   },
   "outputs": [
    {
     "name": "stdout",
     "output_type": "stream",
     "text": [
      "conv2d\n",
      "conv2d_1\n",
      "max_pooling2d\n",
      "conv2d_2\n",
      "conv2d_3\n",
      "max_pooling2d_1\n",
      "conv2d_4\n",
      "conv2d_5\n",
      "max_pooling2d_2\n",
      "flatten\n",
      "dense\n",
      "dense_1\n"
     ]
    },
    {
     "data": {
      "image/png": "[encoded data removed]",
      "text/plain": [
       "<Figure size 1440x720 with 1 Axes>"
      ]
     },
     "metadata": {
      "needs_background": "light"
     },
     "output_type": "display_data"
    }
   ],
   "source": [
    "#plotting layer latency by layer name\n",
    "path = '/local/Lab2/Tensorboard/Single_Inference/Plots/input2_plot.png'\n",
    "layers = []\n",
    "for i in range(len(model.layers)):\n",
    "    layers.append(model.layers[i].name)\n",
    "    print(layers[-1])\n",
    "latency_arr = [6695, 5300, 152, 7021, 380, 47, 137, 155, 11, 0, 318, 65]\n",
    "plt.figure(figsize=(20,10))\n",
    "plt.bar(layers, latency_arr)\n",
    "plt.xlabel('Layer name')\n",
    "plt.ylabel('Latency (us)')\n",
    "plt.savefig(path)\n",
    "plt.show()"
   ]
  },
  {
   "cell_type": "code",
   "execution_count": 46,
   "metadata": {
    "scrolled": true
   },
   "outputs": [
    {
     "name": "stdout",
     "output_type": "stream",
     "text": [
      "The tensorboard extension is already loaded. To reload it, use:\n",
      "  %reload_ext tensorboard\n"
     ]
    },
    {
     "name": "stderr",
     "output_type": "stream",
     "text": [
      "2021-09-27 13:53:57.236374: I tensorflow/core/profiler/lib/profiler_session.cc:136] Profiler session initializing.\n",
      "2021-09-27 13:53:57.236414: I tensorflow/core/profiler/lib/profiler_session.cc:155] Profiler session started.\n",
      "2021-09-27 13:53:57.252578: I tensorflow/core/profiler/lib/profiler_session.cc:71] Profiler session collecting data.\n",
      "2021-09-27 13:53:57.253519: I tensorflow/core/profiler/lib/profiler_session.cc:172] Profiler session tear down.\n",
      "2021-09-27 13:53:57.254752: I tensorflow/core/profiler/rpc/client/save_profile.cc:137] Creating directory: /local/Lab2/Tensorboard/Template_Profiling/logs/20210927-135357/plugins/profile/2021_09_27_13_53_57\n",
      "2021-09-27 13:53:57.255504: I tensorflow/core/profiler/rpc/client/save_profile.cc:143] Dumped gzipped tool data for trace.json.gz to /local/Lab2/Tensorboard/Template_Profiling/logs/20210927-135357/plugins/profile/2021_09_27_13_53_57/cpre482-05.ece.iastate.edu.trace.json.gz\n",
      "2021-09-27 13:53:57.256269: I tensorflow/core/profiler/rpc/client/save_profile.cc:137] Creating directory: /local/Lab2/Tensorboard/Template_Profiling/logs/20210927-135357/plugins/profile/2021_09_27_13_53_57\n",
      "2021-09-27 13:53:57.256360: I tensorflow/core/profiler/rpc/client/save_profile.cc:143] Dumped gzipped tool data for memory_profile.json.gz to /local/Lab2/Tensorboard/Template_Profiling/logs/20210927-135357/plugins/profile/2021_09_27_13_53_57/cpre482-05.ece.iastate.edu.memory_profile.json.gz\n",
      "2021-09-27 13:53:57.256567: I tensorflow/core/profiler/rpc/client/capture_profile.cc:251] Creating directory: /local/Lab2/Tensorboard/Template_Profiling/logs/20210927-135357/plugins/profile/2021_09_27_13_53_57Dumped tool data for xplane.pb to /local/Lab2/Tensorboard/Template_Profiling/logs/20210927-135357/plugins/profile/2021_09_27_13_53_57/cpre482-05.ece.iastate.edu.xplane.pb\n",
      "Dumped tool data for overview_page.pb to /local/Lab2/Tensorboard/Template_Profiling/logs/20210927-135357/plugins/profile/2021_09_27_13_53_57/cpre482-05.ece.iastate.edu.overview_page.pb\n",
      "Dumped tool data for input_pipeline.pb to /local/Lab2/Tensorboard/Template_Profiling/logs/20210927-135357/plugins/profile/2021_09_27_13_53_57/cpre482-05.ece.iastate.edu.input_pipeline.pb\n",
      "Dumped tool data for tensorflow_stats.pb to /local/Lab2/Tensorboard/Template_Profiling/logs/20210927-135357/plugins/profile/2021_09_27_13_53_57/cpre482-05.ece.iastate.edu.tensorflow_stats.pb\n",
      "Dumped tool data for kernel_stats.pb to /local/Lab2/Tensorboard/Template_Profiling/logs/20210927-135357/plugins/profile/2021_09_27_13_53_57/cpre482-05.ece.iastate.edu.kernel_stats.pb\n",
      "\n"
     ]
    },
    {
     "data": {
      "text/plain": [
       "Reusing TensorBoard on port 6006 (pid 15449), started 1:33:16 ago. (Use '!kill 15449' to kill it.)"
      ]
     },
     "metadata": {},
     "output_type": "display_data"
    },
    {
     "data": {
      "text/html": [
       "\n",
       "      <iframe id=\"tensorboard-frame-c7fb44935a0fe467\" width=\"100%\" height=\"800\" frameborder=\"0\">\n",
       "      </iframe>\n",
       "      <script>\n",
       "        (function() {\n",
       "          const frame = document.getElementById(\"tensorboard-frame-c7fb44935a0fe467\");\n",
       "          const url = new URL(\"/\", window.location);\n",
       "          const port = 6006;\n",
       "          if (port) {\n",
       "            url.port = port;\n",
       "          }\n",
       "          frame.src = url;\n",
       "        })();\n",
       "      </script>\n",
       "    "
      ],
      "text/plain": [
       "<IPython.core.display.HTML object>"
      ]
     },
     "metadata": {},
     "output_type": "display_data"
    }
   ],
   "source": [
    "# Sample Profiling: Inference for a single image:\n",
    "\n",
    "# chose any desired image between 0 and 9999 (10,000 validation set images)\n",
    "image_index=1000\n",
    "\n",
    "# load the data\n",
    "val_single_image = tf.data.Dataset.from_tensors(x_val[image_index].reshape(1,64,64,3)) \n",
    "\n",
    "\n",
    "logs=\"/local/Lab2/Tensorboard/Template_Profiling/logs/\" + datetime.now().strftime(\"%Y%m%d-%H%M%S\")\n",
    "\n",
    "\n",
    "# Perform the inference profiling:\n",
    "\n",
    "# Starts Profile logging\n",
    "tf.profiler.experimental.start(logs)\n",
    "\n",
    "# Actual inference\n",
    "model.predict(val_single_image, use_multiprocessing=True)\n",
    "\n",
    "# Stops Profile logging\n",
    "tf.profiler.experimental.stop()\n",
    "\n",
    "# Load the TensorBoard notebook extension.\n",
    "%load_ext tensorboard\n",
    "\n",
    "# Launch TensorBoard and navigate to the Profile tab to view performance profile. \n",
    "# *** Please note just execute this command ones in a session and \n",
    "# then logs for subsequent runs would be auto detected in tensorboard- url: http://localhost:6006/\n",
    "%tensorboard --logdir=logs\n",
    "\n",
    "# You could view the tensorboard in the browser url: http://localhost:6006/"
   ]
  },
  {
   "cell_type": "markdown",
   "metadata": {},
   "source": [
    "# Test Input 3:\n",
    "### Latency time:\n",
    "6.1 ms\n",
    "### Layer type that dominates inference time:\n",
    "The layer type that dominates inference latency time is named FusedConv2d in Tensorboard. It takes up 47.9% of the latency time. The likely reason for this is that convolutional layers require many more computations than the other layers that appear in the model. Additionally, convolutional layers are the most common layer type for this model.\n",
    "### Layer that dominates inference time:\n",
    "Based on TensorBoard outputs, the layer that contributed the most to the latency in the inference time is OptimizeDatasetV2. This layer is likely created by TensorFlow optimizations to tranform the input somehow in a way that optimizes the operations and decreases inference latency. When we looked online, there wasn't a detailed description of this layer other than it performs optimizations on the input dataset."
   ]
  },
  {
   "cell_type": "code",
   "execution_count": 47,
   "metadata": {
    "scrolled": true
   },
   "outputs": [
    {
     "name": "stdout",
     "output_type": "stream",
     "text": [
      "The tensorboard extension is already loaded. To reload it, use:\n",
      "  %reload_ext tensorboard\n"
     ]
    },
    {
     "name": "stderr",
     "output_type": "stream",
     "text": [
      "2021-09-27 13:57:42.904040: I tensorflow/core/profiler/lib/profiler_session.cc:136] Profiler session initializing.\n",
      "2021-09-27 13:57:42.904082: I tensorflow/core/profiler/lib/profiler_session.cc:155] Profiler session started.\n",
      "2021-09-27 13:57:43.004052: I tensorflow/core/profiler/lib/profiler_session.cc:71] Profiler session collecting data.\n",
      "2021-09-27 13:57:43.010766: I tensorflow/core/profiler/lib/profiler_session.cc:172] Profiler session tear down.\n",
      "2021-09-27 13:57:43.019470: I tensorflow/core/profiler/rpc/client/save_profile.cc:137] Creating directory: /local/Lab2/Tensorboard/Template_Profiling/logs/20210927-135742/plugins/profile/2021_09_27_13_57_43\n",
      "2021-09-27 13:57:43.026889: I tensorflow/core/profiler/rpc/client/save_profile.cc:143] Dumped gzipped tool data for trace.json.gz to /local/Lab2/Tensorboard/Template_Profiling/logs/20210927-135742/plugins/profile/2021_09_27_13_57_43/cpre482-05.ece.iastate.edu.trace.json.gz\n",
      "2021-09-27 13:57:43.029220: I tensorflow/core/profiler/rpc/client/save_profile.cc:137] Creating directory: /local/Lab2/Tensorboard/Template_Profiling/logs/20210927-135742/plugins/profile/2021_09_27_13_57_43\n",
      "2021-09-27 13:57:43.029314: I tensorflow/core/profiler/rpc/client/save_profile.cc:143] Dumped gzipped tool data for memory_profile.json.gz to /local/Lab2/Tensorboard/Template_Profiling/logs/20210927-135742/plugins/profile/2021_09_27_13_57_43/cpre482-05.ece.iastate.edu.memory_profile.json.gz\n",
      "2021-09-27 13:57:43.029570: I tensorflow/core/profiler/rpc/client/capture_profile.cc:251] Creating directory: /local/Lab2/Tensorboard/Template_Profiling/logs/20210927-135742/plugins/profile/2021_09_27_13_57_43Dumped tool data for xplane.pb to /local/Lab2/Tensorboard/Template_Profiling/logs/20210927-135742/plugins/profile/2021_09_27_13_57_43/cpre482-05.ece.iastate.edu.xplane.pb\n",
      "Dumped tool data for overview_page.pb to /local/Lab2/Tensorboard/Template_Profiling/logs/20210927-135742/plugins/profile/2021_09_27_13_57_43/cpre482-05.ece.iastate.edu.overview_page.pb\n",
      "Dumped tool data for input_pipeline.pb to /local/Lab2/Tensorboard/Template_Profiling/logs/20210927-135742/plugins/profile/2021_09_27_13_57_43/cpre482-05.ece.iastate.edu.input_pipeline.pb\n",
      "Dumped tool data for tensorflow_stats.pb to /local/Lab2/Tensorboard/Template_Profiling/logs/20210927-135742/plugins/profile/2021_09_27_13_57_43/cpre482-05.ece.iastate.edu.tensorflow_stats.pb\n",
      "Dumped tool data for kernel_stats.pb to /local/Lab2/Tensorboard/Template_Profiling/logs/20210927-135742/plugins/profile/2021_09_27_13_57_43/cpre482-05.ece.iastate.edu.kernel_stats.pb\n",
      "\n"
     ]
    },
    {
     "data": {
      "text/plain": [
       "Reusing TensorBoard on port 6006 (pid 15449), started 1:37:02 ago. (Use '!kill 15449' to kill it.)"
      ]
     },
     "metadata": {},
     "output_type": "display_data"
    },
    {
     "data": {
      "text/html": [
       "\n",
       "      <iframe id=\"tensorboard-frame-8ef1a1959f5a03b7\" width=\"100%\" height=\"800\" frameborder=\"0\">\n",
       "      </iframe>\n",
       "      <script>\n",
       "        (function() {\n",
       "          const frame = document.getElementById(\"tensorboard-frame-8ef1a1959f5a03b7\");\n",
       "          const url = new URL(\"/\", window.location);\n",
       "          const port = 6006;\n",
       "          if (port) {\n",
       "            url.port = port;\n",
       "          }\n",
       "          frame.src = url;\n",
       "        })();\n",
       "      </script>\n",
       "    "
      ],
      "text/plain": [
       "<IPython.core.display.HTML object>"
      ]
     },
     "metadata": {},
     "output_type": "display_data"
    }
   ],
   "source": [
    "# Sample Profiling: Online Inference:\n",
    "\n",
    "# Vary this from 10, 100, 1000 to simulate multiple online inference\n",
    "loop_index=10\n",
    "\n",
    "logs=\"/local/Lab2/Tensorboard/Template_Profiling/logs/\" + datetime.now().strftime(\"%Y%m%d-%H%M%S\")\n",
    "\n",
    "\n",
    "# Starts Profile logging\n",
    "tf.profiler.experimental.start(logs)\n",
    "\n",
    "# Actual online inference\n",
    "for i in range(loop_index):\n",
    "    dataset=tf.data.Dataset.from_tensors(x_val[i].reshape(1,64,64,3))\n",
    "    model.predict(dataset,use_multiprocessing=True)\n",
    "\n",
    "# Stops Profile logging\n",
    "tf.profiler.experimental.stop()\n",
    "\n",
    "# You could view the tensorboard in the browser url: vand then in the profile tab navigate to the latest run.\n",
    "\n",
    "# Load the TensorBoard notebook extension.\n",
    "%load_ext tensorboard\n",
    "\n",
    "# Launch TensorBoard and navigate to the Profile tab to view performance profile. \n",
    "# *** Please note just execute this command ones in a session and \n",
    "# then logs for subsequent runs would be auto detected in tensorboard- url: http://localhost:6006/\n",
    "%tensorboard --logdir=logs\n"
   ]
  },
  {
   "cell_type": "markdown",
   "metadata": {},
   "source": [
    "# Total Inference time\n",
    "Average step time: 3.6 ms. Since we have 10 input instances, the total inference time is 36 ms.\n",
    "# Throughput\n",
    "1/(0.0036) = 277.78 inferences per second"
   ]
  },
  {
   "cell_type": "code",
   "execution_count": 48,
   "metadata": {},
   "outputs": [
    {
     "name": "stderr",
     "output_type": "stream",
     "text": [
      "2021-09-27 14:07:56.773547: I tensorflow/core/profiler/lib/profiler_session.cc:136] Profiler session initializing.\n",
      "2021-09-27 14:07:56.773578: I tensorflow/core/profiler/lib/profiler_session.cc:155] Profiler session started.\n"
     ]
    },
    {
     "name": "stdout",
     "output_type": "stream",
     "text": [
      "The tensorboard extension is already loaded. To reload it, use:\n",
      "  %reload_ext tensorboard\n"
     ]
    },
    {
     "name": "stderr",
     "output_type": "stream",
     "text": [
      "2021-09-27 14:07:57.677569: I tensorflow/core/profiler/lib/profiler_session.cc:71] Profiler session collecting data.\n",
      "2021-09-27 14:07:57.745426: I tensorflow/core/profiler/lib/profiler_session.cc:172] Profiler session tear down.\n",
      "2021-09-27 14:07:57.825904: I tensorflow/core/profiler/rpc/client/save_profile.cc:137] Creating directory: /local/Lab2/Tensorboard/Template_Profiling/logs/20210927-140756/plugins/profile/2021_09_27_14_07_57\n",
      "2021-09-27 14:07:57.897112: I tensorflow/core/profiler/rpc/client/save_profile.cc:143] Dumped gzipped tool data for trace.json.gz to /local/Lab2/Tensorboard/Template_Profiling/logs/20210927-140756/plugins/profile/2021_09_27_14_07_57/cpre482-05.ece.iastate.edu.trace.json.gz\n",
      "2021-09-27 14:07:57.919544: I tensorflow/core/profiler/rpc/client/save_profile.cc:137] Creating directory: /local/Lab2/Tensorboard/Template_Profiling/logs/20210927-140756/plugins/profile/2021_09_27_14_07_57\n",
      "2021-09-27 14:07:57.919683: I tensorflow/core/profiler/rpc/client/save_profile.cc:143] Dumped gzipped tool data for memory_profile.json.gz to /local/Lab2/Tensorboard/Template_Profiling/logs/20210927-140756/plugins/profile/2021_09_27_14_07_57/cpre482-05.ece.iastate.edu.memory_profile.json.gz\n",
      "2021-09-27 14:07:57.920532: I tensorflow/core/profiler/rpc/client/capture_profile.cc:251] Creating directory: /local/Lab2/Tensorboard/Template_Profiling/logs/20210927-140756/plugins/profile/2021_09_27_14_07_57Dumped tool data for xplane.pb to /local/Lab2/Tensorboard/Template_Profiling/logs/20210927-140756/plugins/profile/2021_09_27_14_07_57/cpre482-05.ece.iastate.edu.xplane.pb\n",
      "Dumped tool data for overview_page.pb to /local/Lab2/Tensorboard/Template_Profiling/logs/20210927-140756/plugins/profile/2021_09_27_14_07_57/cpre482-05.ece.iastate.edu.overview_page.pb\n",
      "Dumped tool data for input_pipeline.pb to /local/Lab2/Tensorboard/Template_Profiling/logs/20210927-140756/plugins/profile/2021_09_27_14_07_57/cpre482-05.ece.iastate.edu.input_pipeline.pb\n",
      "Dumped tool data for tensorflow_stats.pb to /local/Lab2/Tensorboard/Template_Profiling/logs/20210927-140756/plugins/profile/2021_09_27_14_07_57/cpre482-05.ece.iastate.edu.tensorflow_stats.pb\n",
      "Dumped tool data for kernel_stats.pb to /local/Lab2/Tensorboard/Template_Profiling/logs/20210927-140756/plugins/profile/2021_09_27_14_07_57/cpre482-05.ece.iastate.edu.kernel_stats.pb\n",
      "\n"
     ]
    },
    {
     "data": {
      "text/plain": [
       "Reusing TensorBoard on port 6006 (pid 15449), started 1:47:16 ago. (Use '!kill 15449' to kill it.)"
      ]
     },
     "metadata": {},
     "output_type": "display_data"
    },
    {
     "data": {
      "text/html": [
       "\n",
       "      <iframe id=\"tensorboard-frame-2698a8abd415d24b\" width=\"100%\" height=\"800\" frameborder=\"0\">\n",
       "      </iframe>\n",
       "      <script>\n",
       "        (function() {\n",
       "          const frame = document.getElementById(\"tensorboard-frame-2698a8abd415d24b\");\n",
       "          const url = new URL(\"/\", window.location);\n",
       "          const port = 6006;\n",
       "          if (port) {\n",
       "            url.port = port;\n",
       "          }\n",
       "          frame.src = url;\n",
       "        })();\n",
       "      </script>\n",
       "    "
      ],
      "text/plain": [
       "<IPython.core.display.HTML object>"
      ]
     },
     "metadata": {},
     "output_type": "display_data"
    }
   ],
   "source": [
    "# Sample Profiling: Online Inference:\n",
    "\n",
    "# Vary this from 10, 100, 1000 to simulate multiple online inference\n",
    "loop_index=100\n",
    "\n",
    "logs=\"/local/Lab2/Tensorboard/Template_Profiling/logs/\" + datetime.now().strftime(\"%Y%m%d-%H%M%S\")\n",
    "\n",
    "\n",
    "# Starts Profile logging\n",
    "tf.profiler.experimental.start(logs)\n",
    "\n",
    "# Actual online inference\n",
    "for i in range(loop_index):\n",
    "    dataset=tf.data.Dataset.from_tensors(x_val[i].reshape(1,64,64,3))\n",
    "    model.predict(dataset,use_multiprocessing=True)\n",
    "\n",
    "# Stops Profile logging\n",
    "tf.profiler.experimental.stop()\n",
    "\n",
    "# You could view the tensorboard in the browser url: vand then in the profile tab navigate to the latest run.\n",
    "\n",
    "# Load the TensorBoard notebook extension.\n",
    "%load_ext tensorboard\n",
    "\n",
    "# Launch TensorBoard and navigate to the Profile tab to view performance profile. \n",
    "# *** Please note just execute this command ones in a session and \n",
    "# then logs for subsequent runs would be auto detected in tensorboard- url: http://localhost:6006/\n",
    "%tensorboard --logdir=logs\n"
   ]
  },
  {
   "cell_type": "markdown",
   "metadata": {},
   "source": [
    "# Total Inference time\n",
    "Average step time: 3.1 ms. Since we have 100 input instances, the total inference time is 310 ms.\n",
    "# Throughput\n",
    "1/(0.0031) = 322.58 inferences per second"
   ]
  },
  {
   "cell_type": "code",
   "execution_count": 24,
   "metadata": {
    "scrolled": true
   },
   "outputs": [
    {
     "name": "stderr",
     "output_type": "stream",
     "text": [
      "2021-10-04 12:46:27.880899: I tensorflow/core/profiler/lib/profiler_session.cc:136] Profiler session initializing.\n",
      "2021-10-04 12:46:27.880940: I tensorflow/core/profiler/lib/profiler_session.cc:155] Profiler session started.\n"
     ]
    },
    {
     "name": "stdout",
     "output_type": "stream",
     "text": [
      "The tensorboard extension is already loaded. To reload it, use:\n",
      "  %reload_ext tensorboard\n"
     ]
    },
    {
     "name": "stderr",
     "output_type": "stream",
     "text": [
      "2021-10-04 12:46:36.853951: I tensorflow/core/profiler/lib/profiler_session.cc:71] Profiler session collecting data.\n",
      "2021-10-04 12:46:37.613149: I tensorflow/core/profiler/lib/profiler_session.cc:172] Profiler session tear down.\n",
      "2021-10-04 12:46:38.475490: I tensorflow/core/profiler/rpc/client/save_profile.cc:137] Creating directory: /local/Lab2/Tensorboard/Template_Profiling/logs/20211004-124627/plugins/profile/2021_10_04_12_46_37\n",
      "2021-10-04 12:46:39.189152: I tensorflow/core/profiler/rpc/client/save_profile.cc:143] Dumped gzipped tool data for trace.json.gz to /local/Lab2/Tensorboard/Template_Profiling/logs/20211004-124627/plugins/profile/2021_10_04_12_46_37/cpre482-05.ece.iastate.edu.trace.json.gz\n",
      "2021-10-04 12:46:39.432047: I tensorflow/core/profiler/rpc/client/save_profile.cc:137] Creating directory: /local/Lab2/Tensorboard/Template_Profiling/logs/20211004-124627/plugins/profile/2021_10_04_12_46_37\n",
      "2021-10-04 12:46:39.432219: I tensorflow/core/profiler/rpc/client/save_profile.cc:143] Dumped gzipped tool data for memory_profile.json.gz to /local/Lab2/Tensorboard/Template_Profiling/logs/20211004-124627/plugins/profile/2021_10_04_12_46_37/cpre482-05.ece.iastate.edu.memory_profile.json.gz\n",
      "2021-10-04 12:46:39.438706: I tensorflow/core/profiler/rpc/client/capture_profile.cc:251] Creating directory: /local/Lab2/Tensorboard/Template_Profiling/logs/20211004-124627/plugins/profile/2021_10_04_12_46_37Dumped tool data for xplane.pb to /local/Lab2/Tensorboard/Template_Profiling/logs/20211004-124627/plugins/profile/2021_10_04_12_46_37/cpre482-05.ece.iastate.edu.xplane.pb\n",
      "Dumped tool data for overview_page.pb to /local/Lab2/Tensorboard/Template_Profiling/logs/20211004-124627/plugins/profile/2021_10_04_12_46_37/cpre482-05.ece.iastate.edu.overview_page.pb\n",
      "Dumped tool data for input_pipeline.pb to /local/Lab2/Tensorboard/Template_Profiling/logs/20211004-124627/plugins/profile/2021_10_04_12_46_37/cpre482-05.ece.iastate.edu.input_pipeline.pb\n",
      "Dumped tool data for tensorflow_stats.pb to /local/Lab2/Tensorboard/Template_Profiling/logs/20211004-124627/plugins/profile/2021_10_04_12_46_37/cpre482-05.ece.iastate.edu.tensorflow_stats.pb\n",
      "Dumped tool data for kernel_stats.pb to /local/Lab2/Tensorboard/Template_Profiling/logs/20211004-124627/plugins/profile/2021_10_04_12_46_37/cpre482-05.ece.iastate.edu.kernel_stats.pb\n",
      "\n"
     ]
    },
    {
     "data": {
      "text/plain": [
       "Reusing TensorBoard on port 6006 (pid 15449), started 7 days, 0:25:58 ago. (Use '!kill 15449' to kill it.)"
      ]
     },
     "metadata": {},
     "output_type": "display_data"
    },
    {
     "data": {
      "text/html": [
       "\n",
       "      <iframe id=\"tensorboard-frame-2a9deeaf3428d431\" width=\"100%\" height=\"800\" frameborder=\"0\">\n",
       "      </iframe>\n",
       "      <script>\n",
       "        (function() {\n",
       "          const frame = document.getElementById(\"tensorboard-frame-2a9deeaf3428d431\");\n",
       "          const url = new URL(\"/\", window.location);\n",
       "          const port = 6006;\n",
       "          if (port) {\n",
       "            url.port = port;\n",
       "          }\n",
       "          frame.src = url;\n",
       "        })();\n",
       "      </script>\n",
       "    "
      ],
      "text/plain": [
       "<IPython.core.display.HTML object>"
      ]
     },
     "metadata": {},
     "output_type": "display_data"
    }
   ],
   "source": [
    "# Sample Profiling: Online Inference:\n",
    "\n",
    "# Vary this from 10, 100, 1000 to simulate multiple online inference\n",
    "loop_index=1000 \n",
    "\n",
    "logs=\"/local/Lab2/Tensorboard/Template_Profiling/logs/\" + datetime.now().strftime(\"%Y%m%d-%H%M%S\")\n",
    "\n",
    "\n",
    "# Starts Profile logging\n",
    "tf.profiler.experimental.start(logs)\n",
    "\n",
    "# Actual online inference\n",
    "for i in range(loop_index):\n",
    "    dataset=tf.data.Dataset.from_tensors(x_val[i].reshape(1,64,64,3))\n",
    "    model.predict(dataset,use_multiprocessing=True)\n",
    "\n",
    "# Stops Profile logging\n",
    "tf.profiler.experimental.stop()\n",
    "\n",
    "# You could view the tensorboard in the browser url: vand then in the profile tab navigate to the latest run.\n",
    "\n",
    "# Load the TensorBoard notebook extension.\n",
    "%load_ext tensorboard\n",
    "\n",
    "# Launch TensorBoard and navigate to the Profile tab to view performance profile. \n",
    "# *** Please note just execute this command ones in a session and \n",
    "# then logs for subsequent runs would be auto detected in tensorboard- url: http://localhost:6006/\n",
    "%tensorboard --logdir=logs"
   ]
  },
  {
   "cell_type": "markdown",
   "metadata": {},
   "source": [
    "# Total Inference time\n",
    "Average step time: 3.3 ms. Since we have 1000 input instances, the total inference time is 3300 ms.\n",
    "# Throughput\n",
    "1/(0.0031) = 303.03 inferences per second"
   ]
  },
  {
   "cell_type": "code",
   "execution_count": 35,
   "metadata": {
    "scrolled": true
   },
   "outputs": [
    {
     "name": "stderr",
     "output_type": "stream",
     "text": [
      "2021-10-04 13:34:50.081950: I tensorflow/core/profiler/lib/profiler_session.cc:136] Profiler session initializing.\n",
      "2021-10-04 13:34:50.081994: I tensorflow/core/profiler/lib/profiler_session.cc:155] Profiler session started.\n"
     ]
    },
    {
     "name": "stdout",
     "output_type": "stream",
     "text": [
      "The tensorboard extension is already loaded. To reload it, use:\n",
      "  %reload_ext tensorboard\n"
     ]
    },
    {
     "name": "stderr",
     "output_type": "stream",
     "text": [
      "2021-10-04 13:34:51.697913: I tensorflow/core/profiler/lib/profiler_session.cc:71] Profiler session collecting data.\n",
      "2021-10-04 13:34:51.698868: I tensorflow/core/profiler/lib/profiler_session.cc:172] Profiler session tear down.\n",
      "2021-10-04 13:34:51.700151: I tensorflow/core/profiler/rpc/client/save_profile.cc:137] Creating directory: /local/Lab2/Tensorboard/Template_Profiling/logs/20211004-133450/plugins/profile/2021_10_04_13_34_51\n",
      "2021-10-04 13:34:51.700915: I tensorflow/core/profiler/rpc/client/save_profile.cc:143] Dumped gzipped tool data for trace.json.gz to /local/Lab2/Tensorboard/Template_Profiling/logs/20211004-133450/plugins/profile/2021_10_04_13_34_51/cpre482-05.ece.iastate.edu.trace.json.gz\n",
      "2021-10-04 13:34:51.701678: I tensorflow/core/profiler/rpc/client/save_profile.cc:137] Creating directory: /local/Lab2/Tensorboard/Template_Profiling/logs/20211004-133450/plugins/profile/2021_10_04_13_34_51\n",
      "2021-10-04 13:34:51.701768: I tensorflow/core/profiler/rpc/client/save_profile.cc:143] Dumped gzipped tool data for memory_profile.json.gz to /local/Lab2/Tensorboard/Template_Profiling/logs/20211004-133450/plugins/profile/2021_10_04_13_34_51/cpre482-05.ece.iastate.edu.memory_profile.json.gz\n",
      "2021-10-04 13:34:51.701938: I tensorflow/core/profiler/rpc/client/capture_profile.cc:251] Creating directory: /local/Lab2/Tensorboard/Template_Profiling/logs/20211004-133450/plugins/profile/2021_10_04_13_34_51Dumped tool data for xplane.pb to /local/Lab2/Tensorboard/Template_Profiling/logs/20211004-133450/plugins/profile/2021_10_04_13_34_51/cpre482-05.ece.iastate.edu.xplane.pb\n",
      "Dumped tool data for overview_page.pb to /local/Lab2/Tensorboard/Template_Profiling/logs/20211004-133450/plugins/profile/2021_10_04_13_34_51/cpre482-05.ece.iastate.edu.overview_page.pb\n",
      "Dumped tool data for input_pipeline.pb to /local/Lab2/Tensorboard/Template_Profiling/logs/20211004-133450/plugins/profile/2021_10_04_13_34_51/cpre482-05.ece.iastate.edu.input_pipeline.pb\n",
      "Dumped tool data for tensorflow_stats.pb to /local/Lab2/Tensorboard/Template_Profiling/logs/20211004-133450/plugins/profile/2021_10_04_13_34_51/cpre482-05.ece.iastate.edu.tensorflow_stats.pb\n",
      "Dumped tool data for kernel_stats.pb to /local/Lab2/Tensorboard/Template_Profiling/logs/20211004-133450/plugins/profile/2021_10_04_13_34_51/cpre482-05.ece.iastate.edu.kernel_stats.pb\n",
      "\n"
     ]
    },
    {
     "data": {
      "text/plain": [
       "Reusing TensorBoard on port 6006 (pid 15449), started 7 days, 1:14:10 ago. (Use '!kill 15449' to kill it.)"
      ]
     },
     "metadata": {},
     "output_type": "display_data"
    },
    {
     "data": {
      "text/html": [
       "\n",
       "      <iframe id=\"tensorboard-frame-1bd40ea22b6d7f95\" width=\"100%\" height=\"800\" frameborder=\"0\">\n",
       "      </iframe>\n",
       "      <script>\n",
       "        (function() {\n",
       "          const frame = document.getElementById(\"tensorboard-frame-1bd40ea22b6d7f95\");\n",
       "          const url = new URL(\"/\", window.location);\n",
       "          const port = 6006;\n",
       "          if (port) {\n",
       "            url.port = port;\n",
       "          }\n",
       "          frame.src = url;\n",
       "        })();\n",
       "      </script>\n",
       "    "
      ],
      "text/plain": [
       "<IPython.core.display.HTML object>"
      ]
     },
     "metadata": {},
     "output_type": "display_data"
    }
   ],
   "source": [
    "# Sample Profiling: Batch Inference:\n",
    "\n",
    "# We would only perform batch inference for a subset of validation set i.e. 1000 images \n",
    "# using different batch sizes of 20, 40, 100, 200 \n",
    "\n",
    "# Decides the size of the batch. Try: 20, 40, 100, 200\n",
    "Size_Batch= 20 \n",
    "\n",
    "logs=\"/local/Lab2/Tensorboard/Template_Profiling/logs/\" + datetime.now().strftime(\"%Y%m%d-%H%M%S\")\n",
    "\n",
    "\n",
    "# Starts Profile logging\n",
    "tf.profiler.experimental.start(logs)\n",
    "\n",
    "# Actual Batch inference\n",
    "dataset=tf.data.Dataset.from_tensors(x_val[0:1000,:,:,:])\n",
    "model.predict(dataset,batch_size=Size_Batch, use_multiprocessing=True)\n",
    "\n",
    "# Stops Profile logging\n",
    "tf.profiler.experimental.stop()\n",
    "\n",
    "# Load the TensorBoard notebook extension.\n",
    "%load_ext tensorboard\n",
    "\n",
    "# Launch TensorBoard and navigate to the Profile tab to view performance profile. \n",
    "# *** Please note just execute this command ones in a session and \n",
    "# then logs for subsequent runs would be auto detected in tensorboard- url: http://localhost:6006/\n",
    "%tensorboard --logdir=logs\n",
    "\n",
    "# You could view the tensorboard in the browser url: http://localhost:6006/ and then in the profile tab navigate to the latest run.\n"
   ]
  },
  {
   "cell_type": "markdown",
   "metadata": {},
   "source": [
    "### End-to-end Inference Latency:\n",
    "The reported end-to-end latency was 1327 ms. The average latency for each inference is 1.327 ms per inference\n",
    "### Troughput:\n",
    "1/(0.001327) = 753.58 inferences per second"
   ]
  },
  {
   "cell_type": "code",
   "execution_count": 36,
   "metadata": {
    "scrolled": true
   },
   "outputs": [
    {
     "name": "stderr",
     "output_type": "stream",
     "text": [
      "2021-10-04 13:35:03.506850: I tensorflow/core/profiler/lib/profiler_session.cc:136] Profiler session initializing.\n",
      "2021-10-04 13:35:03.506890: I tensorflow/core/profiler/lib/profiler_session.cc:155] Profiler session started.\n"
     ]
    },
    {
     "name": "stdout",
     "output_type": "stream",
     "text": [
      "The tensorboard extension is already loaded. To reload it, use:\n",
      "  %reload_ext tensorboard\n"
     ]
    },
    {
     "name": "stderr",
     "output_type": "stream",
     "text": [
      "2021-10-04 13:35:05.205234: I tensorflow/core/profiler/lib/profiler_session.cc:71] Profiler session collecting data.\n",
      "2021-10-04 13:35:05.206219: I tensorflow/core/profiler/lib/profiler_session.cc:172] Profiler session tear down.\n",
      "2021-10-04 13:35:05.207661: I tensorflow/core/profiler/rpc/client/save_profile.cc:137] Creating directory: /local/Lab2/Tensorboard/Template_Profiling/logs/20211004-133503/plugins/profile/2021_10_04_13_35_05\n",
      "2021-10-04 13:35:05.208424: I tensorflow/core/profiler/rpc/client/save_profile.cc:143] Dumped gzipped tool data for trace.json.gz to /local/Lab2/Tensorboard/Template_Profiling/logs/20211004-133503/plugins/profile/2021_10_04_13_35_05/cpre482-05.ece.iastate.edu.trace.json.gz\n",
      "2021-10-04 13:35:05.209210: I tensorflow/core/profiler/rpc/client/save_profile.cc:137] Creating directory: /local/Lab2/Tensorboard/Template_Profiling/logs/20211004-133503/plugins/profile/2021_10_04_13_35_05\n",
      "2021-10-04 13:35:05.209301: I tensorflow/core/profiler/rpc/client/save_profile.cc:143] Dumped gzipped tool data for memory_profile.json.gz to /local/Lab2/Tensorboard/Template_Profiling/logs/20211004-133503/plugins/profile/2021_10_04_13_35_05/cpre482-05.ece.iastate.edu.memory_profile.json.gz\n",
      "2021-10-04 13:35:05.209498: I tensorflow/core/profiler/rpc/client/capture_profile.cc:251] Creating directory: /local/Lab2/Tensorboard/Template_Profiling/logs/20211004-133503/plugins/profile/2021_10_04_13_35_05Dumped tool data for xplane.pb to /local/Lab2/Tensorboard/Template_Profiling/logs/20211004-133503/plugins/profile/2021_10_04_13_35_05/cpre482-05.ece.iastate.edu.xplane.pb\n",
      "Dumped tool data for overview_page.pb to /local/Lab2/Tensorboard/Template_Profiling/logs/20211004-133503/plugins/profile/2021_10_04_13_35_05/cpre482-05.ece.iastate.edu.overview_page.pb\n",
      "Dumped tool data for input_pipeline.pb to /local/Lab2/Tensorboard/Template_Profiling/logs/20211004-133503/plugins/profile/2021_10_04_13_35_05/cpre482-05.ece.iastate.edu.input_pipeline.pb\n",
      "Dumped tool data for tensorflow_stats.pb to /local/Lab2/Tensorboard/Template_Profiling/logs/20211004-133503/plugins/profile/2021_10_04_13_35_05/cpre482-05.ece.iastate.edu.tensorflow_stats.pb\n",
      "Dumped tool data for kernel_stats.pb to /local/Lab2/Tensorboard/Template_Profiling/logs/20211004-133503/plugins/profile/2021_10_04_13_35_05/cpre482-05.ece.iastate.edu.kernel_stats.pb\n",
      "\n"
     ]
    },
    {
     "data": {
      "text/plain": [
       "Reusing TensorBoard on port 6006 (pid 15449), started 7 days, 1:14:24 ago. (Use '!kill 15449' to kill it.)"
      ]
     },
     "metadata": {},
     "output_type": "display_data"
    },
    {
     "data": {
      "text/html": [
       "\n",
       "      <iframe id=\"tensorboard-frame-241f8cefb7bf351b\" width=\"100%\" height=\"800\" frameborder=\"0\">\n",
       "      </iframe>\n",
       "      <script>\n",
       "        (function() {\n",
       "          const frame = document.getElementById(\"tensorboard-frame-241f8cefb7bf351b\");\n",
       "          const url = new URL(\"/\", window.location);\n",
       "          const port = 6006;\n",
       "          if (port) {\n",
       "            url.port = port;\n",
       "          }\n",
       "          frame.src = url;\n",
       "        })();\n",
       "      </script>\n",
       "    "
      ],
      "text/plain": [
       "<IPython.core.display.HTML object>"
      ]
     },
     "metadata": {},
     "output_type": "display_data"
    }
   ],
   "source": [
    "# Sample Profiling: Batch Inference:\n",
    "\n",
    "# We would only perform batch inference for a subset of validation set i.e. 1000 images \n",
    "# using different batch sizes of 20, 40, 100, 200 \n",
    "\n",
    "# Decides the size of the batch. Try: 20, 40, 100, 200\n",
    "Size_Batch= 40 \n",
    "\n",
    "logs=\"/local/Lab2/Tensorboard/Template_Profiling/logs/\" + datetime.now().strftime(\"%Y%m%d-%H%M%S\")\n",
    "\n",
    "\n",
    "# Starts Profile logging\n",
    "tf.profiler.experimental.start(logs)\n",
    "\n",
    "# Actual Batch inference\n",
    "dataset=tf.data.Dataset.from_tensors(x_val[0:1000,:,:,:])\n",
    "model.predict(dataset,batch_size=Size_Batch, use_multiprocessing=True)\n",
    "\n",
    "# Stops Profile logging\n",
    "tf.profiler.experimental.stop()\n",
    "\n",
    "# Load the TensorBoard notebook extension.\n",
    "%load_ext tensorboard\n",
    "\n",
    "# Launch TensorBoard and navigate to the Profile tab to view performance profile. \n",
    "# *** Please note just execute this command ones in a session and \n",
    "# then logs for subsequent runs would be auto detected in tensorboard- url: http://localhost:6006/\n",
    "%tensorboard --logdir=logs\n",
    "\n",
    "# You could view the tensorboard in the browser url: http://localhost:6006/ and then in the profile tab navigate to the latest run.\n"
   ]
  },
  {
   "cell_type": "markdown",
   "metadata": {},
   "source": [
    "### End-to-end Inference Latency:\n",
    "The reported end-to-end latency was 1450.3 ms. The average latency for each inference is 1.4503 ms per inference\n",
    "### Troughput:\n",
    "1/(0.001327) = 689.51 inferences per second"
   ]
  },
  {
   "cell_type": "code",
   "execution_count": 37,
   "metadata": {
    "scrolled": true
   },
   "outputs": [
    {
     "name": "stderr",
     "output_type": "stream",
     "text": [
      "2021-10-04 13:35:16.299321: I tensorflow/core/profiler/lib/profiler_session.cc:136] Profiler session initializing.\n",
      "2021-10-04 13:35:16.299363: I tensorflow/core/profiler/lib/profiler_session.cc:155] Profiler session started.\n"
     ]
    },
    {
     "name": "stdout",
     "output_type": "stream",
     "text": [
      "The tensorboard extension is already loaded. To reload it, use:\n",
      "  %reload_ext tensorboard\n"
     ]
    },
    {
     "name": "stderr",
     "output_type": "stream",
     "text": [
      "2021-10-04 13:35:18.001410: I tensorflow/core/profiler/lib/profiler_session.cc:71] Profiler session collecting data.\n",
      "2021-10-04 13:35:18.002413: I tensorflow/core/profiler/lib/profiler_session.cc:172] Profiler session tear down.\n",
      "2021-10-04 13:35:18.003736: I tensorflow/core/profiler/rpc/client/save_profile.cc:137] Creating directory: /local/Lab2/Tensorboard/Template_Profiling/logs/20211004-133516/plugins/profile/2021_10_04_13_35_18\n",
      "2021-10-04 13:35:18.004516: I tensorflow/core/profiler/rpc/client/save_profile.cc:143] Dumped gzipped tool data for trace.json.gz to /local/Lab2/Tensorboard/Template_Profiling/logs/20211004-133516/plugins/profile/2021_10_04_13_35_18/cpre482-05.ece.iastate.edu.trace.json.gz\n",
      "2021-10-04 13:35:18.005258: I tensorflow/core/profiler/rpc/client/save_profile.cc:137] Creating directory: /local/Lab2/Tensorboard/Template_Profiling/logs/20211004-133516/plugins/profile/2021_10_04_13_35_18\n",
      "2021-10-04 13:35:18.005348: I tensorflow/core/profiler/rpc/client/save_profile.cc:143] Dumped gzipped tool data for memory_profile.json.gz to /local/Lab2/Tensorboard/Template_Profiling/logs/20211004-133516/plugins/profile/2021_10_04_13_35_18/cpre482-05.ece.iastate.edu.memory_profile.json.gz\n",
      "2021-10-04 13:35:18.005557: I tensorflow/core/profiler/rpc/client/capture_profile.cc:251] Creating directory: /local/Lab2/Tensorboard/Template_Profiling/logs/20211004-133516/plugins/profile/2021_10_04_13_35_18Dumped tool data for xplane.pb to /local/Lab2/Tensorboard/Template_Profiling/logs/20211004-133516/plugins/profile/2021_10_04_13_35_18/cpre482-05.ece.iastate.edu.xplane.pb\n",
      "Dumped tool data for overview_page.pb to /local/Lab2/Tensorboard/Template_Profiling/logs/20211004-133516/plugins/profile/2021_10_04_13_35_18/cpre482-05.ece.iastate.edu.overview_page.pb\n",
      "Dumped tool data for input_pipeline.pb to /local/Lab2/Tensorboard/Template_Profiling/logs/20211004-133516/plugins/profile/2021_10_04_13_35_18/cpre482-05.ece.iastate.edu.input_pipeline.pb\n",
      "Dumped tool data for tensorflow_stats.pb to /local/Lab2/Tensorboard/Template_Profiling/logs/20211004-133516/plugins/profile/2021_10_04_13_35_18/cpre482-05.e"
     ]
    },
    {
     "data": {
      "text/plain": [
       "Reusing TensorBoard on port 6006 (pid 15449), started 7 days, 1:14:37 ago. (Use '!kill 15449' to kill it.)"
      ]
     },
     "metadata": {},
     "output_type": "display_data"
    },
    {
     "name": "stderr",
     "output_type": "stream",
     "text": [
      "ce.iastate.edu.tensorflow_stats.pb\n",
      "Dumped tool data for kernel_stats.pb to /local/Lab2/Tensorboard/Template_Profiling/logs/20211004-133516/plugins/profile/2021_10_04_13_35_18/cpre482-05.ece.iastate.edu.kernel_stats.pb\n",
      "\n"
     ]
    },
    {
     "data": {
      "text/html": [
       "\n",
       "      <iframe id=\"tensorboard-frame-9f3f44f4ab5125ea\" width=\"100%\" height=\"800\" frameborder=\"0\">\n",
       "      </iframe>\n",
       "      <script>\n",
       "        (function() {\n",
       "          const frame = document.getElementById(\"tensorboard-frame-9f3f44f4ab5125ea\");\n",
       "          const url = new URL(\"/\", window.location);\n",
       "          const port = 6006;\n",
       "          if (port) {\n",
       "            url.port = port;\n",
       "          }\n",
       "          frame.src = url;\n",
       "        })();\n",
       "      </script>\n",
       "    "
      ],
      "text/plain": [
       "<IPython.core.display.HTML object>"
      ]
     },
     "metadata": {},
     "output_type": "display_data"
    }
   ],
   "source": [
    "# Sample Profiling: Batch Inference:\n",
    "\n",
    "# We would only perform batch inference for a subset of validation set i.e. 1000 images \n",
    "# using different batch sizes of 20, 40, 100, 200 \n",
    "\n",
    "# Decides the size of the batch. Try: 20, 40, 100, 200\n",
    "Size_Batch= 100 \n",
    "\n",
    "logs=\"/local/Lab2/Tensorboard/Template_Profiling/logs/\" + datetime.now().strftime(\"%Y%m%d-%H%M%S\")\n",
    "\n",
    "\n",
    "# Starts Profile logging\n",
    "tf.profiler.experimental.start(logs)\n",
    "\n",
    "# Actual Batch inference\n",
    "dataset=tf.data.Dataset.from_tensors(x_val[0:1000,:,:,:])\n",
    "model.predict(dataset,batch_size=Size_Batch, use_multiprocessing=True)\n",
    "\n",
    "# Stops Profile logging\n",
    "tf.profiler.experimental.stop()\n",
    "\n",
    "# Load the TensorBoard notebook extension.\n",
    "%load_ext tensorboard\n",
    "\n",
    "# Launch TensorBoard and navigate to the Profile tab to view performance profile. \n",
    "# *** Please note just execute this command ones in a session and \n",
    "# then logs for subsequent runs would be auto detected in tensorboard- url: http://localhost:6006/\n",
    "%tensorboard --logdir=logs\n",
    "\n",
    "# You could view the tensorboard in the browser url: http://localhost:6006/ and then in the profile tab navigate to the latest run.\n"
   ]
  },
  {
   "cell_type": "markdown",
   "metadata": {},
   "source": [
    "### End-to-end Inference Latency:\n",
    "The reported end-to-end latency was 2025.7 ms. The average latency for each inference is 2.0257 ms per inference\n",
    "### Troughput:\n",
    "1/(0.0020257) = 493.66 inferences per second"
   ]
  },
  {
   "cell_type": "code",
   "execution_count": 38,
   "metadata": {
    "scrolled": true
   },
   "outputs": [
    {
     "name": "stderr",
     "output_type": "stream",
     "text": [
      "2021-10-04 13:35:30.672547: I tensorflow/core/profiler/lib/profiler_session.cc:136] Profiler session initializing.\n",
      "2021-10-04 13:35:30.672586: I tensorflow/core/profiler/lib/profiler_session.cc:155] Profiler session started.\n"
     ]
    },
    {
     "name": "stdout",
     "output_type": "stream",
     "text": [
      "The tensorboard extension is already loaded. To reload it, use:\n",
      "  %reload_ext tensorboard\n"
     ]
    },
    {
     "name": "stderr",
     "output_type": "stream",
     "text": [
      "2021-10-04 13:35:32.413944: I tensorflow/core/profiler/lib/profiler_session.cc:71] Profiler session collecting data.\n",
      "2021-10-04 13:35:32.414907: I tensorflow/core/profiler/lib/profiler_session.cc:172] Profiler session tear down.\n",
      "2021-10-04 13:35:32.416208: I tensorflow/core/profiler/rpc/client/save_profile.cc:137] Creating directory: /local/Lab2/Tensorboard/Template_Profiling/logs/20211004-133530/plugins/profile/2021_10_04_13_35_32\n",
      "2021-10-04 13:35:32.416959: I tensorflow/core/profiler/rpc/client/save_profile.cc:143] Dumped gzipped tool data for trace.json.gz to /local/Lab2/Tensorboard/Template_Profiling/logs/20211004-133530/plugins/profile/2021_10_04_13_35_32/cpre482-05.ece.iastate.edu.trace.json.gz\n",
      "2021-10-04 13:35:32.417706: I tensorflow/core/profiler/rpc/client/save_profile.cc:137] Creating directory: /local/Lab2/Tensorboard/Template_Profiling/logs/20211004-133530/plugins/profile/2021_10_04_13_35_32\n",
      "2021-10-04 13:35:32.417796: I tensorflow/core/profiler/rpc/client/save_profile.cc:143] Dumped gzipped tool data for memory_profile.json.gz to /local/Lab2/Tensorboard/Template_Profiling/logs/20211004-133530/plugins/profile/2021_10_04_13_35_32/cpre482-05.ece.iastate.edu.memory_profile.json.gz\n",
      "2021-10-04 13:35:32.417983: I tensorflow/core/profiler/rpc/client/capture_profile.cc:251] Creating directory: /local/Lab2/Tensorboard/Template_Profiling/logs/20211004-133530/plugins/profile/2021_10_04_13_35_32Dumped tool data for xplane.pb to /local/Lab2/Tensorboard/Template_Profiling/logs/20211004-133530/plugins/profile/2021_10_04_13_35_32/cpre482-05.ece.iastate.edu.xplane.pb\n",
      "Dumped tool data for overview_page.pb to /local/Lab2/Tensorboard/Template_Profiling/logs/20211004-133530/plugins/profile/2021_10_04_13_35_32/cpre482-05.ece.iastate.edu.overview_page.pb\n",
      "Dumped tool data for input_pipeline.pb to /local/Lab2/Tensorboard/Template_Profiling/logs/20211004-133530/plugins/profile/2021_10_04_13_35_32/cpre482-05.ece.iastate.edu.input_pipeline.pb\n",
      "Dumped tool data for tensorflow_stats.pb to /local/Lab2/Tensorboard/Template_Profiling/logs/20211004-133530/plugins/profile/2021_10_04_13_35_32/cpre482-05.ece.iastate.edu.tensorflow_stats.pb\n",
      "Dumped tool data for kernel_stats.pb to /local/Lab2/Tensorboard/Template_Profiling/logs/20211004-133530/plugins/profile/2021_10_04_13_35_32/cpre482-05.ece.iastate.edu.kernel_stats.pb\n",
      "\n"
     ]
    },
    {
     "data": {
      "text/plain": [
       "Reusing TensorBoard on port 6006 (pid 15449), started 7 days, 1:14:51 ago. (Use '!kill 15449' to kill it.)"
      ]
     },
     "metadata": {},
     "output_type": "display_data"
    },
    {
     "data": {
      "text/html": [
       "\n",
       "      <iframe id=\"tensorboard-frame-c7c2d0a5b6fc7dbb\" width=\"100%\" height=\"800\" frameborder=\"0\">\n",
       "      </iframe>\n",
       "      <script>\n",
       "        (function() {\n",
       "          const frame = document.getElementById(\"tensorboard-frame-c7c2d0a5b6fc7dbb\");\n",
       "          const url = new URL(\"/\", window.location);\n",
       "          const port = 6006;\n",
       "          if (port) {\n",
       "            url.port = port;\n",
       "          }\n",
       "          frame.src = url;\n",
       "        })();\n",
       "      </script>\n",
       "    "
      ],
      "text/plain": [
       "<IPython.core.display.HTML object>"
      ]
     },
     "metadata": {},
     "output_type": "display_data"
    }
   ],
   "source": [
    "# Sample Profiling: Batch Inference:\n",
    "\n",
    "# We would only perform batch inference for a subset of validation set i.e. 1000 images \n",
    "# using different batch sizes of 20, 40, 100, 200 \n",
    "\n",
    "# Decides the size of the batch. Try: 20, 40, 100, 200\n",
    "Size_Batch= 200 \n",
    "\n",
    "logs=\"/local/Lab2/Tensorboard/Template_Profiling/logs/\" + datetime.now().strftime(\"%Y%m%d-%H%M%S\")\n",
    "\n",
    "\n",
    "# Starts Profile logging\n",
    "tf.profiler.experimental.start(logs)\n",
    "\n",
    "# Actual Batch inference\n",
    "dataset=tf.data.Dataset.from_tensors(x_val[0:1000,:,:,:])\n",
    "model.predict(dataset,batch_size=Size_Batch, use_multiprocessing=True)\n",
    "\n",
    "# Stops Profile logging\n",
    "tf.profiler.experimental.stop()\n",
    "\n",
    "# Load the TensorBoard notebook extension.\n",
    "%load_ext tensorboard\n",
    "\n",
    "# Launch TensorBoard and navigate to the Profile tab to view performance profile. \n",
    "# *** Please note just execute this command ones in a session and \n",
    "# then logs for subsequent runs would be auto detected in tensorboard- url: http://localhost:6006/\n",
    "%tensorboard --logdir=logs\n",
    "\n",
    "# You could view the tensorboard in the browser url: http://localhost:6006/ and then in the profile tab navigate to the latest run.\n"
   ]
  },
  {
   "cell_type": "markdown",
   "metadata": {},
   "source": [
    "### End-to-end Inference Latency:\n",
    "The reported end-to-end latency was 1536 ms. The average latency for each inference is 1.536 ms per inference\n",
    "### Troughput:\n",
    "1/(0.001536) = 651.04 inferences per second"
   ]
  },
  {
   "cell_type": "markdown",
   "metadata": {},
   "source": [
    "### Batch sizes conclusions:\n",
    "The overall latency showed to increase as the batch size increases, with the exception of the batch size 200. However, all of the observed batch sizes performed better than the batch size of 1 we were using during the online inference step: the average timestep for a single inference was considerably better, taking as little as half the time when compared to a batch size of 1. This happens because the GPU running the inference is likely leveraging the shared memory when we use batches (for example, how the hardware reuses the filter values for a convolutional layer) to have fewer cache misses and decrease the inference time for a input instance.\n",
    "### Tradeoffs\n",
    "Using a batch size different than 1 decreases the latency for a single inference and increases the observed throughput. Hence, batching the input is generally helpful for performance metrics. The reason that one batch size may work better than another might be due to the hardware design for the GPU running the code. Depending on the L1 and L2 cache size, for example, we have most optimal batch sizes such that most of data used in an operation can fit in the cache and incurs less cache misses.\n",
    "### Kernel most critical for optimization\n",
    "A common ocurrence for all the batch sizes used was that the convolution operation dominated the runtime. So, if we are considering optimizing the inference time, a first optimization priority would be to increase efficiency of that operation."
   ]
  }
 ],
 "metadata": {
  "kernelspec": {
   "display_name": "Python 3 (ipykernel)",
   "language": "python",
   "name": "python3"
  },
  "language_info": {
   "codemirror_mode": {
    "name": "ipython",
    "version": 3
   },
   "file_extension": ".py",
   "mimetype": "text/x-python",
   "name": "python",
   "nbconvert_exporter": "python",
   "pygments_lexer": "ipython3",
   "version": "3.9.6"
  }
 },
 "nbformat": 4,
 "nbformat_minor": 4
}
